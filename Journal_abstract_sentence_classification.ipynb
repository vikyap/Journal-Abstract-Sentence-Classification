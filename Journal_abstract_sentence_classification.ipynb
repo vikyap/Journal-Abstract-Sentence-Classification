{
  "nbformat": 4,
  "nbformat_minor": 0,
  "metadata": {
    "colab": {
      "name": "Journal abstract sentence classification.ipynb",
      "provenance": [],
      "collapsed_sections": [],
      "mount_file_id": "1KOKeIiZ6nHdr925iMV46EaoGobp5MyGb",
      "authorship_tag": "ABX9TyOhb6Avfyi6wotRphT6ku/S",
      "include_colab_link": true
    },
    "kernelspec": {
      "name": "python3",
      "display_name": "Python 3"
    },
    "language_info": {
      "name": "python"
    },
    "accelerator": "GPU"
  },
  "cells": [
    {
      "cell_type": "markdown",
      "metadata": {
        "id": "view-in-github",
        "colab_type": "text"
      },
      "source": [
        "<a href=\"https://colab.research.google.com/github/vikyap/Journal-Abstract-Sentence-Classification/blob/main/Journal_abstract_sentence_classification.ipynb\" target=\"_parent\"><img src=\"https://colab.research.google.com/assets/colab-badge.svg\" alt=\"Open In Colab\"/></a>"
      ]
    },
    {
      "cell_type": "code",
      "execution_count": 72,
      "metadata": {
        "id": "Ej_zfzmdc361"
      },
      "outputs": [],
      "source": [
        "import tensorflow as tf\n",
        "import tensorflow_hub as hub \n",
        "import pandas as pd\n",
        "import numpy as np\n",
        "import matplotlib.pyplot as plt\n",
        "import os \n",
        "import random\n",
        "import string\n",
        "\n",
        "from sklearn.preprocessing import OneHotEncoder, LabelEncoder\n",
        "from sklearn.metrics import accuracy_score, precision_recall_fscore_support\n",
        "from sklearn.feature_extraction.text import TfidfVectorizer \n",
        "from sklearn.naive_bayes import MultinomialNB\n",
        "from sklearn.pipeline import Pipeline \n",
        "\n",
        "from tensorflow.keras import layers\n",
        "from tensorflow.keras.layers.experimental.preprocessing import TextVectorization"
      ]
    },
    {
      "cell_type": "markdown",
      "source": [
        "# Explore & Preprocess data"
      ],
      "metadata": {
        "id": "W-pj8_clmYF4"
      }
    },
    {
      "cell_type": "code",
      "source": [
        "data_dir = \"drive/MyDrive/Abstract sentence classification/Data/\""
      ],
      "metadata": {
        "id": "K41lRLz4dp2w"
      },
      "execution_count": 22,
      "outputs": []
    },
    {
      "cell_type": "code",
      "source": [
        "filenames = [data_dir + filename for filename in os.listdir(data_dir)]\n",
        "filenames"
      ],
      "metadata": {
        "colab": {
          "base_uri": "https://localhost:8080/"
        },
        "id": "Ai8kmMPhpzKt",
        "outputId": "64da67ef-156b-4a65-b5de-95ec6bd69bb2"
      },
      "execution_count": 23,
      "outputs": [
        {
          "output_type": "execute_result",
          "data": {
            "text/plain": [
              "['drive/MyDrive/Abstract sentence classification/Data/dev.txt',\n",
              " 'drive/MyDrive/Abstract sentence classification/Data/train.txt',\n",
              " 'drive/MyDrive/Abstract sentence classification/Data/test.txt']"
            ]
          },
          "metadata": {},
          "execution_count": 23
        }
      ]
    },
    {
      "cell_type": "code",
      "source": [
        "def get_lines(filename): \n",
        "  file = open(filename, \"r\")\n",
        "  return file.readlines()"
      ],
      "metadata": {
        "id": "kT_Wgf7Ip5_F"
      },
      "execution_count": 24,
      "outputs": []
    },
    {
      "cell_type": "code",
      "source": [
        "# view the dataset\n",
        "train_lines = get_lines(data_dir + \"train.txt\")\n",
        "train_lines[:30]"
      ],
      "metadata": {
        "colab": {
          "base_uri": "https://localhost:8080/"
        },
        "id": "kneahgd1qTwB",
        "outputId": "5b9e31e4-c788-4ed5-993c-a178f46eddec"
      },
      "execution_count": 25,
      "outputs": [
        {
          "output_type": "execute_result",
          "data": {
            "text/plain": [
              "['###24293578\\n',\n",
              " 'OBJECTIVE\\tTo investigate the efficacy of @ weeks of daily low-dose oral prednisolone in improving pain , mobility , and systemic low-grade inflammation in the short term and whether the effect would be sustained at @ weeks in older adults with moderate to severe knee osteoarthritis ( OA ) .\\n',\n",
              " 'METHODS\\tA total of @ patients with primary knee OA were randomized @:@ ; @ received @ mg/day of prednisolone and @ received placebo for @ weeks .\\n',\n",
              " 'METHODS\\tOutcome measures included pain reduction and improvement in function scores and systemic inflammation markers .\\n',\n",
              " 'METHODS\\tPain was assessed using the visual analog pain scale ( @-@ mm ) .\\n',\n",
              " 'METHODS\\tSecondary outcome measures included the Western Ontario and McMaster Universities Osteoarthritis Index scores , patient global assessment ( PGA ) of the severity of knee OA , and @-min walk distance ( @MWD ) .\\n',\n",
              " 'METHODS\\tSerum levels of interleukin @ ( IL-@ ) , IL-@ , tumor necrosis factor ( TNF ) - , and high-sensitivity C-reactive protein ( hsCRP ) were measured .\\n',\n",
              " 'RESULTS\\tThere was a clinically relevant reduction in the intervention group compared to the placebo group for knee pain , physical function , PGA , and @MWD at @ weeks .\\n',\n",
              " 'RESULTS\\tThe mean difference between treatment arms ( @ % CI ) was @ ( @-@ @ ) , p < @ ; @ ( @-@ @ ) , p < @ ; @ ( @-@ @ ) , p < @ ; and @ ( @-@ @ ) , p < @ , respectively .\\n',\n",
              " 'RESULTS\\tFurther , there was a clinically relevant reduction in the serum levels of IL-@ , IL-@ , TNF - , and hsCRP at @ weeks in the intervention group when compared to the placebo group .\\n',\n",
              " 'RESULTS\\tThese differences remained significant at @ weeks .\\n',\n",
              " 'RESULTS\\tThe Outcome Measures in Rheumatology Clinical Trials-Osteoarthritis Research Society International responder rate was @ % in the intervention group and @ % in the placebo group ( p < @ ) .\\n',\n",
              " 'CONCLUSIONS\\tLow-dose oral prednisolone had both a short-term and a longer sustained effect resulting in less knee pain , better physical function , and attenuation of systemic inflammation in older patients with knee OA ( ClinicalTrials.gov identifier NCT@ ) .\\n',\n",
              " '\\n',\n",
              " '###24854809\\n',\n",
              " 'BACKGROUND\\tEmotional eating is associated with overeating and the development of obesity .\\n',\n",
              " 'BACKGROUND\\tYet , empirical evidence for individual ( trait ) differences in emotional eating and cognitive mechanisms that contribute to eating during sad mood remain equivocal .\\n',\n",
              " 'OBJECTIVE\\tThe aim of this study was to test if attention bias for food moderates the effect of self-reported emotional eating during sad mood ( vs neutral mood ) on actual food intake .\\n',\n",
              " 'OBJECTIVE\\tIt was expected that emotional eating is predictive of elevated attention for food and higher food intake after an experimentally induced sad mood and that attentional maintenance on food predicts food intake during a sad versus a neutral mood .\\n',\n",
              " 'METHODS\\tParticipants ( N = @ ) were randomly assigned to one of the two experimental mood induction conditions ( sad/neutral ) .\\n',\n",
              " 'METHODS\\tAttentional biases for high caloric foods were measured by eye tracking during a visual probe task with pictorial food and neutral stimuli .\\n',\n",
              " 'METHODS\\tSelf-reported emotional eating was assessed with the Dutch Eating Behavior Questionnaire ( DEBQ ) and ad libitum food intake was tested by a disguised food offer .\\n',\n",
              " 'RESULTS\\tHierarchical multivariate regression modeling showed that self-reported emotional eating did not account for changes in attention allocation for food or food intake in either condition .\\n',\n",
              " 'RESULTS\\tYet , attention maintenance on food cues was significantly related to increased intake specifically in the neutral condition , but not in the sad mood condition .\\n',\n",
              " 'CONCLUSIONS\\tThe current findings show that self-reported emotional eating ( based on the DEBQ ) might not validly predict who overeats when sad , at least not in a laboratory setting with healthy women .\\n',\n",
              " 'CONCLUSIONS\\tResults further suggest that attention maintenance on food relates to eating motivation when in a neutral affective state , and might therefore be a cognitive mechanism contributing to increased food intake in general , but maybe not during sad mood .\\n',\n",
              " '\\n',\n",
              " '###25165090\\n',\n",
              " 'BACKGROUND\\tAlthough working smoke alarms halve deaths in residential fires , many households do not keep alarms operational .\\n',\n",
              " 'BACKGROUND\\tWe tested whether theory-based education increases alarm operability .\\n']"
            ]
          },
          "metadata": {},
          "execution_count": 25
        }
      ]
    },
    {
      "cell_type": "code",
      "source": [
        "# preprocess text data\n",
        "def preprocess_text(filename): \n",
        "  input = get_lines(filename)\n",
        "  output = []\n",
        "  abstract_whole = \"\"\n",
        "\n",
        "  for line in input: \n",
        "    if line.startswith(\"###\"): # start of a new abstract\n",
        "      abstract_id = line\n",
        "      abstract_whole = \"\"\n",
        "    elif line.isspace(): # end of an abstract\n",
        "      abstract_lines = abstract_whole.splitlines()\n",
        "\n",
        "      for index, abstract_line in enumerate(abstract_lines): \n",
        "        line_data = {}\n",
        "        line_data[\"label\"] = abstract_line.split(\"\\t\")[0] # what role that line is\n",
        "        line_data[\"line\"] = abstract_line.split(\"\\t\")[1].lower() \n",
        "        line_data[\"index\"] = index # the index of the line within its abstract\n",
        "        line_data[\"total_lines_in_abstract\"] = len(abstract_lines) - 1\n",
        "        output.append(line_data)\n",
        "    \n",
        "    else: \n",
        "      abstract_whole += line\n",
        "    \n",
        "  return output "
      ],
      "metadata": {
        "id": "y4kMhAGCqb5E"
      },
      "execution_count": 26,
      "outputs": []
    },
    {
      "cell_type": "code",
      "source": [
        "# preprocess for train, validation, and test sets\n",
        "train_data = preprocess_text(data_dir + \"train.txt\")\n",
        "val_data = preprocess_text(data_dir + \"dev.txt\")\n",
        "test_data = preprocess_text(data_dir + \"test.txt\")"
      ],
      "metadata": {
        "id": "0tZMu6oGD0Rx"
      },
      "execution_count": 27,
      "outputs": []
    },
    {
      "cell_type": "code",
      "source": [
        "train_data[:20]"
      ],
      "metadata": {
        "colab": {
          "base_uri": "https://localhost:8080/"
        },
        "id": "p9hxUZjYD4Oi",
        "outputId": "2b5df854-75d0-439d-8fe9-8367d777ba26"
      },
      "execution_count": 28,
      "outputs": [
        {
          "output_type": "execute_result",
          "data": {
            "text/plain": [
              "[{'index': 0,\n",
              "  'label': 'OBJECTIVE',\n",
              "  'line': 'to investigate the efficacy of @ weeks of daily low-dose oral prednisolone in improving pain , mobility , and systemic low-grade inflammation in the short term and whether the effect would be sustained at @ weeks in older adults with moderate to severe knee osteoarthritis ( oa ) .',\n",
              "  'total_lines_in_abstract': 11},\n",
              " {'index': 1,\n",
              "  'label': 'METHODS',\n",
              "  'line': 'a total of @ patients with primary knee oa were randomized @:@ ; @ received @ mg/day of prednisolone and @ received placebo for @ weeks .',\n",
              "  'total_lines_in_abstract': 11},\n",
              " {'index': 2,\n",
              "  'label': 'METHODS',\n",
              "  'line': 'outcome measures included pain reduction and improvement in function scores and systemic inflammation markers .',\n",
              "  'total_lines_in_abstract': 11},\n",
              " {'index': 3,\n",
              "  'label': 'METHODS',\n",
              "  'line': 'pain was assessed using the visual analog pain scale ( @-@ mm ) .',\n",
              "  'total_lines_in_abstract': 11},\n",
              " {'index': 4,\n",
              "  'label': 'METHODS',\n",
              "  'line': 'secondary outcome measures included the western ontario and mcmaster universities osteoarthritis index scores , patient global assessment ( pga ) of the severity of knee oa , and @-min walk distance ( @mwd ) .',\n",
              "  'total_lines_in_abstract': 11},\n",
              " {'index': 5,\n",
              "  'label': 'METHODS',\n",
              "  'line': 'serum levels of interleukin @ ( il-@ ) , il-@ , tumor necrosis factor ( tnf ) - , and high-sensitivity c-reactive protein ( hscrp ) were measured .',\n",
              "  'total_lines_in_abstract': 11},\n",
              " {'index': 6,\n",
              "  'label': 'RESULTS',\n",
              "  'line': 'there was a clinically relevant reduction in the intervention group compared to the placebo group for knee pain , physical function , pga , and @mwd at @ weeks .',\n",
              "  'total_lines_in_abstract': 11},\n",
              " {'index': 7,\n",
              "  'label': 'RESULTS',\n",
              "  'line': 'the mean difference between treatment arms ( @ % ci ) was @ ( @-@ @ ) , p < @ ; @ ( @-@ @ ) , p < @ ; @ ( @-@ @ ) , p < @ ; and @ ( @-@ @ ) , p < @ , respectively .',\n",
              "  'total_lines_in_abstract': 11},\n",
              " {'index': 8,\n",
              "  'label': 'RESULTS',\n",
              "  'line': 'further , there was a clinically relevant reduction in the serum levels of il-@ , il-@ , tnf - , and hscrp at @ weeks in the intervention group when compared to the placebo group .',\n",
              "  'total_lines_in_abstract': 11},\n",
              " {'index': 9,\n",
              "  'label': 'RESULTS',\n",
              "  'line': 'these differences remained significant at @ weeks .',\n",
              "  'total_lines_in_abstract': 11},\n",
              " {'index': 10,\n",
              "  'label': 'RESULTS',\n",
              "  'line': 'the outcome measures in rheumatology clinical trials-osteoarthritis research society international responder rate was @ % in the intervention group and @ % in the placebo group ( p < @ ) .',\n",
              "  'total_lines_in_abstract': 11},\n",
              " {'index': 11,\n",
              "  'label': 'CONCLUSIONS',\n",
              "  'line': 'low-dose oral prednisolone had both a short-term and a longer sustained effect resulting in less knee pain , better physical function , and attenuation of systemic inflammation in older patients with knee oa ( clinicaltrials.gov identifier nct@ ) .',\n",
              "  'total_lines_in_abstract': 11},\n",
              " {'index': 0,\n",
              "  'label': 'BACKGROUND',\n",
              "  'line': 'emotional eating is associated with overeating and the development of obesity .',\n",
              "  'total_lines_in_abstract': 10},\n",
              " {'index': 1,\n",
              "  'label': 'BACKGROUND',\n",
              "  'line': 'yet , empirical evidence for individual ( trait ) differences in emotional eating and cognitive mechanisms that contribute to eating during sad mood remain equivocal .',\n",
              "  'total_lines_in_abstract': 10},\n",
              " {'index': 2,\n",
              "  'label': 'OBJECTIVE',\n",
              "  'line': 'the aim of this study was to test if attention bias for food moderates the effect of self-reported emotional eating during sad mood ( vs neutral mood ) on actual food intake .',\n",
              "  'total_lines_in_abstract': 10},\n",
              " {'index': 3,\n",
              "  'label': 'OBJECTIVE',\n",
              "  'line': 'it was expected that emotional eating is predictive of elevated attention for food and higher food intake after an experimentally induced sad mood and that attentional maintenance on food predicts food intake during a sad versus a neutral mood .',\n",
              "  'total_lines_in_abstract': 10},\n",
              " {'index': 4,\n",
              "  'label': 'METHODS',\n",
              "  'line': 'participants ( n = @ ) were randomly assigned to one of the two experimental mood induction conditions ( sad/neutral ) .',\n",
              "  'total_lines_in_abstract': 10},\n",
              " {'index': 5,\n",
              "  'label': 'METHODS',\n",
              "  'line': 'attentional biases for high caloric foods were measured by eye tracking during a visual probe task with pictorial food and neutral stimuli .',\n",
              "  'total_lines_in_abstract': 10},\n",
              " {'index': 6,\n",
              "  'label': 'METHODS',\n",
              "  'line': 'self-reported emotional eating was assessed with the dutch eating behavior questionnaire ( debq ) and ad libitum food intake was tested by a disguised food offer .',\n",
              "  'total_lines_in_abstract': 10},\n",
              " {'index': 7,\n",
              "  'label': 'RESULTS',\n",
              "  'line': 'hierarchical multivariate regression modeling showed that self-reported emotional eating did not account for changes in attention allocation for food or food intake in either condition .',\n",
              "  'total_lines_in_abstract': 10}]"
            ]
          },
          "metadata": {},
          "execution_count": 28
        }
      ]
    },
    {
      "cell_type": "code",
      "source": [
        "train_df = pd.DataFrame(train_data)\n",
        "val_df = pd.DataFrame(val_data)\n",
        "test_df = pd.DataFrame(test_data)"
      ],
      "metadata": {
        "id": "B0YnrTnCHygn"
      },
      "execution_count": 29,
      "outputs": []
    },
    {
      "cell_type": "code",
      "source": [
        "train_df.head(20)"
      ],
      "metadata": {
        "colab": {
          "base_uri": "https://localhost:8080/",
          "height": 677
        },
        "id": "u1rjkCAYIF3w",
        "outputId": "1e835c69-f0f0-43f5-f793-d116241e2ac0"
      },
      "execution_count": 30,
      "outputs": [
        {
          "output_type": "execute_result",
          "data": {
            "text/plain": [
              "          label                                               line  index  \\\n",
              "0     OBJECTIVE  to investigate the efficacy of @ weeks of dail...      0   \n",
              "1       METHODS  a total of @ patients with primary knee oa wer...      1   \n",
              "2       METHODS  outcome measures included pain reduction and i...      2   \n",
              "3       METHODS  pain was assessed using the visual analog pain...      3   \n",
              "4       METHODS  secondary outcome measures included the wester...      4   \n",
              "5       METHODS  serum levels of interleukin @ ( il-@ ) , il-@ ...      5   \n",
              "6       RESULTS  there was a clinically relevant reduction in t...      6   \n",
              "7       RESULTS  the mean difference between treatment arms ( @...      7   \n",
              "8       RESULTS  further , there was a clinically relevant redu...      8   \n",
              "9       RESULTS  these differences remained significant at @ we...      9   \n",
              "10      RESULTS  the outcome measures in rheumatology clinical ...     10   \n",
              "11  CONCLUSIONS  low-dose oral prednisolone had both a short-te...     11   \n",
              "12   BACKGROUND  emotional eating is associated with overeating...      0   \n",
              "13   BACKGROUND  yet , empirical evidence for individual ( trai...      1   \n",
              "14    OBJECTIVE  the aim of this study was to test if attention...      2   \n",
              "15    OBJECTIVE  it was expected that emotional eating is predi...      3   \n",
              "16      METHODS  participants ( n = @ ) were randomly assigned ...      4   \n",
              "17      METHODS  attentional biases for high caloric foods were...      5   \n",
              "18      METHODS  self-reported emotional eating was assessed wi...      6   \n",
              "19      RESULTS  hierarchical multivariate regression modeling ...      7   \n",
              "\n",
              "    total_lines_in_abstract  \n",
              "0                        11  \n",
              "1                        11  \n",
              "2                        11  \n",
              "3                        11  \n",
              "4                        11  \n",
              "5                        11  \n",
              "6                        11  \n",
              "7                        11  \n",
              "8                        11  \n",
              "9                        11  \n",
              "10                       11  \n",
              "11                       11  \n",
              "12                       10  \n",
              "13                       10  \n",
              "14                       10  \n",
              "15                       10  \n",
              "16                       10  \n",
              "17                       10  \n",
              "18                       10  \n",
              "19                       10  "
            ],
            "text/html": [
              "\n",
              "  <div id=\"df-ed189559-82b8-40d9-a6b2-b3ff2116645e\">\n",
              "    <div class=\"colab-df-container\">\n",
              "      <div>\n",
              "<style scoped>\n",
              "    .dataframe tbody tr th:only-of-type {\n",
              "        vertical-align: middle;\n",
              "    }\n",
              "\n",
              "    .dataframe tbody tr th {\n",
              "        vertical-align: top;\n",
              "    }\n",
              "\n",
              "    .dataframe thead th {\n",
              "        text-align: right;\n",
              "    }\n",
              "</style>\n",
              "<table border=\"1\" class=\"dataframe\">\n",
              "  <thead>\n",
              "    <tr style=\"text-align: right;\">\n",
              "      <th></th>\n",
              "      <th>label</th>\n",
              "      <th>line</th>\n",
              "      <th>index</th>\n",
              "      <th>total_lines_in_abstract</th>\n",
              "    </tr>\n",
              "  </thead>\n",
              "  <tbody>\n",
              "    <tr>\n",
              "      <th>0</th>\n",
              "      <td>OBJECTIVE</td>\n",
              "      <td>to investigate the efficacy of @ weeks of dail...</td>\n",
              "      <td>0</td>\n",
              "      <td>11</td>\n",
              "    </tr>\n",
              "    <tr>\n",
              "      <th>1</th>\n",
              "      <td>METHODS</td>\n",
              "      <td>a total of @ patients with primary knee oa wer...</td>\n",
              "      <td>1</td>\n",
              "      <td>11</td>\n",
              "    </tr>\n",
              "    <tr>\n",
              "      <th>2</th>\n",
              "      <td>METHODS</td>\n",
              "      <td>outcome measures included pain reduction and i...</td>\n",
              "      <td>2</td>\n",
              "      <td>11</td>\n",
              "    </tr>\n",
              "    <tr>\n",
              "      <th>3</th>\n",
              "      <td>METHODS</td>\n",
              "      <td>pain was assessed using the visual analog pain...</td>\n",
              "      <td>3</td>\n",
              "      <td>11</td>\n",
              "    </tr>\n",
              "    <tr>\n",
              "      <th>4</th>\n",
              "      <td>METHODS</td>\n",
              "      <td>secondary outcome measures included the wester...</td>\n",
              "      <td>4</td>\n",
              "      <td>11</td>\n",
              "    </tr>\n",
              "    <tr>\n",
              "      <th>5</th>\n",
              "      <td>METHODS</td>\n",
              "      <td>serum levels of interleukin @ ( il-@ ) , il-@ ...</td>\n",
              "      <td>5</td>\n",
              "      <td>11</td>\n",
              "    </tr>\n",
              "    <tr>\n",
              "      <th>6</th>\n",
              "      <td>RESULTS</td>\n",
              "      <td>there was a clinically relevant reduction in t...</td>\n",
              "      <td>6</td>\n",
              "      <td>11</td>\n",
              "    </tr>\n",
              "    <tr>\n",
              "      <th>7</th>\n",
              "      <td>RESULTS</td>\n",
              "      <td>the mean difference between treatment arms ( @...</td>\n",
              "      <td>7</td>\n",
              "      <td>11</td>\n",
              "    </tr>\n",
              "    <tr>\n",
              "      <th>8</th>\n",
              "      <td>RESULTS</td>\n",
              "      <td>further , there was a clinically relevant redu...</td>\n",
              "      <td>8</td>\n",
              "      <td>11</td>\n",
              "    </tr>\n",
              "    <tr>\n",
              "      <th>9</th>\n",
              "      <td>RESULTS</td>\n",
              "      <td>these differences remained significant at @ we...</td>\n",
              "      <td>9</td>\n",
              "      <td>11</td>\n",
              "    </tr>\n",
              "    <tr>\n",
              "      <th>10</th>\n",
              "      <td>RESULTS</td>\n",
              "      <td>the outcome measures in rheumatology clinical ...</td>\n",
              "      <td>10</td>\n",
              "      <td>11</td>\n",
              "    </tr>\n",
              "    <tr>\n",
              "      <th>11</th>\n",
              "      <td>CONCLUSIONS</td>\n",
              "      <td>low-dose oral prednisolone had both a short-te...</td>\n",
              "      <td>11</td>\n",
              "      <td>11</td>\n",
              "    </tr>\n",
              "    <tr>\n",
              "      <th>12</th>\n",
              "      <td>BACKGROUND</td>\n",
              "      <td>emotional eating is associated with overeating...</td>\n",
              "      <td>0</td>\n",
              "      <td>10</td>\n",
              "    </tr>\n",
              "    <tr>\n",
              "      <th>13</th>\n",
              "      <td>BACKGROUND</td>\n",
              "      <td>yet , empirical evidence for individual ( trai...</td>\n",
              "      <td>1</td>\n",
              "      <td>10</td>\n",
              "    </tr>\n",
              "    <tr>\n",
              "      <th>14</th>\n",
              "      <td>OBJECTIVE</td>\n",
              "      <td>the aim of this study was to test if attention...</td>\n",
              "      <td>2</td>\n",
              "      <td>10</td>\n",
              "    </tr>\n",
              "    <tr>\n",
              "      <th>15</th>\n",
              "      <td>OBJECTIVE</td>\n",
              "      <td>it was expected that emotional eating is predi...</td>\n",
              "      <td>3</td>\n",
              "      <td>10</td>\n",
              "    </tr>\n",
              "    <tr>\n",
              "      <th>16</th>\n",
              "      <td>METHODS</td>\n",
              "      <td>participants ( n = @ ) were randomly assigned ...</td>\n",
              "      <td>4</td>\n",
              "      <td>10</td>\n",
              "    </tr>\n",
              "    <tr>\n",
              "      <th>17</th>\n",
              "      <td>METHODS</td>\n",
              "      <td>attentional biases for high caloric foods were...</td>\n",
              "      <td>5</td>\n",
              "      <td>10</td>\n",
              "    </tr>\n",
              "    <tr>\n",
              "      <th>18</th>\n",
              "      <td>METHODS</td>\n",
              "      <td>self-reported emotional eating was assessed wi...</td>\n",
              "      <td>6</td>\n",
              "      <td>10</td>\n",
              "    </tr>\n",
              "    <tr>\n",
              "      <th>19</th>\n",
              "      <td>RESULTS</td>\n",
              "      <td>hierarchical multivariate regression modeling ...</td>\n",
              "      <td>7</td>\n",
              "      <td>10</td>\n",
              "    </tr>\n",
              "  </tbody>\n",
              "</table>\n",
              "</div>\n",
              "      <button class=\"colab-df-convert\" onclick=\"convertToInteractive('df-ed189559-82b8-40d9-a6b2-b3ff2116645e')\"\n",
              "              title=\"Convert this dataframe to an interactive table.\"\n",
              "              style=\"display:none;\">\n",
              "        \n",
              "  <svg xmlns=\"http://www.w3.org/2000/svg\" height=\"24px\"viewBox=\"0 0 24 24\"\n",
              "       width=\"24px\">\n",
              "    <path d=\"M0 0h24v24H0V0z\" fill=\"none\"/>\n",
              "    <path d=\"M18.56 5.44l.94 2.06.94-2.06 2.06-.94-2.06-.94-.94-2.06-.94 2.06-2.06.94zm-11 1L8.5 8.5l.94-2.06 2.06-.94-2.06-.94L8.5 2.5l-.94 2.06-2.06.94zm10 10l.94 2.06.94-2.06 2.06-.94-2.06-.94-.94-2.06-.94 2.06-2.06.94z\"/><path d=\"M17.41 7.96l-1.37-1.37c-.4-.4-.92-.59-1.43-.59-.52 0-1.04.2-1.43.59L10.3 9.45l-7.72 7.72c-.78.78-.78 2.05 0 2.83L4 21.41c.39.39.9.59 1.41.59.51 0 1.02-.2 1.41-.59l7.78-7.78 2.81-2.81c.8-.78.8-2.07 0-2.86zM5.41 20L4 18.59l7.72-7.72 1.47 1.35L5.41 20z\"/>\n",
              "  </svg>\n",
              "      </button>\n",
              "      \n",
              "  <style>\n",
              "    .colab-df-container {\n",
              "      display:flex;\n",
              "      flex-wrap:wrap;\n",
              "      gap: 12px;\n",
              "    }\n",
              "\n",
              "    .colab-df-convert {\n",
              "      background-color: #E8F0FE;\n",
              "      border: none;\n",
              "      border-radius: 50%;\n",
              "      cursor: pointer;\n",
              "      display: none;\n",
              "      fill: #1967D2;\n",
              "      height: 32px;\n",
              "      padding: 0 0 0 0;\n",
              "      width: 32px;\n",
              "    }\n",
              "\n",
              "    .colab-df-convert:hover {\n",
              "      background-color: #E2EBFA;\n",
              "      box-shadow: 0px 1px 2px rgba(60, 64, 67, 0.3), 0px 1px 3px 1px rgba(60, 64, 67, 0.15);\n",
              "      fill: #174EA6;\n",
              "    }\n",
              "\n",
              "    [theme=dark] .colab-df-convert {\n",
              "      background-color: #3B4455;\n",
              "      fill: #D2E3FC;\n",
              "    }\n",
              "\n",
              "    [theme=dark] .colab-df-convert:hover {\n",
              "      background-color: #434B5C;\n",
              "      box-shadow: 0px 1px 3px 1px rgba(0, 0, 0, 0.15);\n",
              "      filter: drop-shadow(0px 1px 2px rgba(0, 0, 0, 0.3));\n",
              "      fill: #FFFFFF;\n",
              "    }\n",
              "  </style>\n",
              "\n",
              "      <script>\n",
              "        const buttonEl =\n",
              "          document.querySelector('#df-ed189559-82b8-40d9-a6b2-b3ff2116645e button.colab-df-convert');\n",
              "        buttonEl.style.display =\n",
              "          google.colab.kernel.accessAllowed ? 'block' : 'none';\n",
              "\n",
              "        async function convertToInteractive(key) {\n",
              "          const element = document.querySelector('#df-ed189559-82b8-40d9-a6b2-b3ff2116645e');\n",
              "          const dataTable =\n",
              "            await google.colab.kernel.invokeFunction('convertToInteractive',\n",
              "                                                     [key], {});\n",
              "          if (!dataTable) return;\n",
              "\n",
              "          const docLinkHtml = 'Like what you see? Visit the ' +\n",
              "            '<a target=\"_blank\" href=https://colab.research.google.com/notebooks/data_table.ipynb>data table notebook</a>'\n",
              "            + ' to learn more about interactive tables.';\n",
              "          element.innerHTML = '';\n",
              "          dataTable['output_type'] = 'display_data';\n",
              "          await google.colab.output.renderOutput(dataTable, element);\n",
              "          const docLink = document.createElement('div');\n",
              "          docLink.innerHTML = docLinkHtml;\n",
              "          element.appendChild(docLink);\n",
              "        }\n",
              "      </script>\n",
              "    </div>\n",
              "  </div>\n",
              "  "
            ]
          },
          "metadata": {},
          "execution_count": 30
        }
      ]
    },
    {
      "cell_type": "code",
      "source": [
        "# distribution of labels \n",
        "train_df[\"label\"].value_counts().plot.bar()\n",
        "plt.title(\"Value Counts of each Sentence Role\");"
      ],
      "metadata": {
        "colab": {
          "base_uri": "https://localhost:8080/",
          "height": 343
        },
        "id": "iRh_abOJIHf4",
        "outputId": "3ae22157-08c5-441c-adbc-b9d3e4bd8657"
      },
      "execution_count": 31,
      "outputs": [
        {
          "output_type": "display_data",
          "data": {
            "text/plain": [
              "<Figure size 432x288 with 1 Axes>"
            ],
            "image/png": "[encoded data removed]"
          },
          "metadata": {
            "needs_background": "light"
          }
        }
      ]
    },
    {
      "cell_type": "code",
      "source": [
        "train_df[\"total_lines_in_abstract\"].plot.hist()\n",
        "plt.title(\"Fr \")\n",
        "plt.xlabel(\"Total number of lines in abstract\");"
      ],
      "metadata": {
        "colab": {
          "base_uri": "https://localhost:8080/",
          "height": 295
        },
        "id": "MzYJZCp7IUbw",
        "outputId": "778af7c9-cd8c-49ee-c6d4-6eb57593906b"
      },
      "execution_count": 32,
      "outputs": [
        {
          "output_type": "display_data",
          "data": {
            "text/plain": [
              "<Figure size 432x288 with 1 Axes>"
            ],
            "image/png": "[encoded data removed]"
          },
          "metadata": {
            "needs_background": "light"
          }
        }
      ]
    },
    {
      "cell_type": "code",
      "source": [
        "# convert text lines into lists\n",
        "train_lines = train_df[\"line\"].tolist()\n",
        "val_lines = val_df[\"line\"].tolist()\n",
        "test_lines = test_df[\"line\"].tolist()"
      ],
      "metadata": {
        "id": "emBjHja4Ip2K"
      },
      "execution_count": 33,
      "outputs": []
    },
    {
      "cell_type": "code",
      "source": [
        "train_lines[:20]"
      ],
      "metadata": {
        "colab": {
          "base_uri": "https://localhost:8080/"
        },
        "id": "wj4Lr6XHV1Lg",
        "outputId": "bf4ea0bd-6fcc-4a1c-e4ff-efafc7c1023f"
      },
      "execution_count": 34,
      "outputs": [
        {
          "output_type": "execute_result",
          "data": {
            "text/plain": [
              "['to investigate the efficacy of @ weeks of daily low-dose oral prednisolone in improving pain , mobility , and systemic low-grade inflammation in the short term and whether the effect would be sustained at @ weeks in older adults with moderate to severe knee osteoarthritis ( oa ) .',\n",
              " 'a total of @ patients with primary knee oa were randomized @:@ ; @ received @ mg/day of prednisolone and @ received placebo for @ weeks .',\n",
              " 'outcome measures included pain reduction and improvement in function scores and systemic inflammation markers .',\n",
              " 'pain was assessed using the visual analog pain scale ( @-@ mm ) .',\n",
              " 'secondary outcome measures included the western ontario and mcmaster universities osteoarthritis index scores , patient global assessment ( pga ) of the severity of knee oa , and @-min walk distance ( @mwd ) .',\n",
              " 'serum levels of interleukin @ ( il-@ ) , il-@ , tumor necrosis factor ( tnf ) - , and high-sensitivity c-reactive protein ( hscrp ) were measured .',\n",
              " 'there was a clinically relevant reduction in the intervention group compared to the placebo group for knee pain , physical function , pga , and @mwd at @ weeks .',\n",
              " 'the mean difference between treatment arms ( @ % ci ) was @ ( @-@ @ ) , p < @ ; @ ( @-@ @ ) , p < @ ; @ ( @-@ @ ) , p < @ ; and @ ( @-@ @ ) , p < @ , respectively .',\n",
              " 'further , there was a clinically relevant reduction in the serum levels of il-@ , il-@ , tnf - , and hscrp at @ weeks in the intervention group when compared to the placebo group .',\n",
              " 'these differences remained significant at @ weeks .',\n",
              " 'the outcome measures in rheumatology clinical trials-osteoarthritis research society international responder rate was @ % in the intervention group and @ % in the placebo group ( p < @ ) .',\n",
              " 'low-dose oral prednisolone had both a short-term and a longer sustained effect resulting in less knee pain , better physical function , and attenuation of systemic inflammation in older patients with knee oa ( clinicaltrials.gov identifier nct@ ) .',\n",
              " 'emotional eating is associated with overeating and the development of obesity .',\n",
              " 'yet , empirical evidence for individual ( trait ) differences in emotional eating and cognitive mechanisms that contribute to eating during sad mood remain equivocal .',\n",
              " 'the aim of this study was to test if attention bias for food moderates the effect of self-reported emotional eating during sad mood ( vs neutral mood ) on actual food intake .',\n",
              " 'it was expected that emotional eating is predictive of elevated attention for food and higher food intake after an experimentally induced sad mood and that attentional maintenance on food predicts food intake during a sad versus a neutral mood .',\n",
              " 'participants ( n = @ ) were randomly assigned to one of the two experimental mood induction conditions ( sad/neutral ) .',\n",
              " 'attentional biases for high caloric foods were measured by eye tracking during a visual probe task with pictorial food and neutral stimuli .',\n",
              " 'self-reported emotional eating was assessed with the dutch eating behavior questionnaire ( debq ) and ad libitum food intake was tested by a disguised food offer .',\n",
              " 'hierarchical multivariate regression modeling showed that self-reported emotional eating did not account for changes in attention allocation for food or food intake in either condition .']"
            ]
          },
          "metadata": {},
          "execution_count": 34
        }
      ]
    },
    {
      "cell_type": "code",
      "source": [
        "# one hot encoded labels work better with categorical crossentropy \n",
        "one_hot = OneHotEncoder(sparse=False)\n",
        "\n",
        "train_label_one_hot = one_hot.fit_transform(train_df[\"label\"].to_numpy().reshape(-1, 1))\n",
        "val_label_one_hot = one_hot.transform(val_df[\"label\"].to_numpy().reshape(-1, 1))\n",
        "test_label_one_hot = one_hot.transform(test_df[\"label\"].to_numpy().reshape(-1, 1))"
      ],
      "metadata": {
        "id": "DMbjrdLPIszC"
      },
      "execution_count": 35,
      "outputs": []
    },
    {
      "cell_type": "code",
      "source": [
        "label_encoder = LabelEncoder() \n",
        "\n",
        "train_label_encode = label_encoder.fit_transform(train_df[\"label\"].to_numpy())\n",
        "val_label_encode = label_encoder.transform(val_df[\"label\"].to_numpy())\n",
        "test_label_encode = label_encoder.transform(test_df[\"label\"].to_numpy())"
      ],
      "metadata": {
        "id": "KjwzfQVJTZ1q"
      },
      "execution_count": 36,
      "outputs": []
    },
    {
      "cell_type": "code",
      "source": [
        "# view what the encoded labels look like\n",
        "print(\"One hot encoding:\\n\", train_label_one_hot)\n",
        "print(\"\\nLabel encoding:\\n\", train_label_encode)"
      ],
      "metadata": {
        "colab": {
          "base_uri": "https://localhost:8080/"
        },
        "id": "qhZ8_ewCT7pj",
        "outputId": "577a9f7d-2316-44b3-e85b-321995c7926e"
      },
      "execution_count": 37,
      "outputs": [
        {
          "output_type": "stream",
          "name": "stdout",
          "text": [
            "One hot encoding:\n",
            " [[0. 0. 0. 1. 0.]\n",
            " [0. 0. 1. 0. 0.]\n",
            " [0. 0. 1. 0. 0.]\n",
            " ...\n",
            " [0. 0. 0. 0. 1.]\n",
            " [0. 1. 0. 0. 0.]\n",
            " [0. 1. 0. 0. 0.]]\n",
            "\n",
            "Label encoding:\n",
            " [3 2 2 ... 4 1 1]\n"
          ]
        }
      ]
    },
    {
      "cell_type": "markdown",
      "source": [
        "# Model_0 Baseline"
      ],
      "metadata": {
        "id": "Im2j9TnFoATE"
      }
    },
    {
      "cell_type": "code",
      "source": [
        "# score the models based on accuracy, precision, recall, f1\n",
        "def score(y_true, y_preds):\n",
        "  accuracy = accuracy_score(y_true, y_preds) \n",
        "  precision, recall, f1, support = precision_recall_fscore_support(y_true, y_preds, average=\"weighted\")\n",
        "  score = {\"accuracy\": accuracy, \n",
        "           \"precision\": precision, \n",
        "           \"recall\": recall, \n",
        "           \"f1\": f1}\n",
        "  return score"
      ],
      "metadata": {
        "id": "5iJff-2tWhqm"
      },
      "execution_count": 38,
      "outputs": []
    },
    {
      "cell_type": "code",
      "source": [
        "model_0 = Pipeline([\n",
        "                    (\"tfidf\", TfidfVectorizer()), \n",
        "                     (\"clf\", MultinomialNB())\n",
        "])\n",
        "\n",
        "model_0.fit(X=train_lines, \n",
        "            y=train_label_encode)"
      ],
      "metadata": {
        "colab": {
          "base_uri": "https://localhost:8080/"
        },
        "id": "f-ZVD4xnUEO8",
        "outputId": "cad09a97-e3f1-4e2d-fa5d-8210a02b75cb"
      },
      "execution_count": 39,
      "outputs": [
        {
          "output_type": "execute_result",
          "data": {
            "text/plain": [
              "Pipeline(steps=[('tfidf', TfidfVectorizer()), ('clf', MultinomialNB())])"
            ]
          },
          "metadata": {},
          "execution_count": 39
        }
      ]
    },
    {
      "cell_type": "code",
      "source": [
        "model_0.score(X=val_lines,\n",
        "              y=val_label_encode)"
      ],
      "metadata": {
        "colab": {
          "base_uri": "https://localhost:8080/"
        },
        "id": "R-R81ev6Vgng",
        "outputId": "68082c57-b20d-412e-f127-2bf50d53d6e0"
      },
      "execution_count": 40,
      "outputs": [
        {
          "output_type": "execute_result",
          "data": {
            "text/plain": [
              "0.7218323844829869"
            ]
          },
          "metadata": {},
          "execution_count": 40
        }
      ]
    },
    {
      "cell_type": "code",
      "source": [
        "# baseline results\n",
        "baseline_preds = model_0.predict(val_lines)\n",
        "model_0_result = score(val_label_encode, baseline_preds)\n",
        "model_0_result"
      ],
      "metadata": {
        "colab": {
          "base_uri": "https://localhost:8080/"
        },
        "id": "llOsvhT4Vnd4",
        "outputId": "f68729c5-eee9-4d91-9abf-d227d2eeef88"
      },
      "execution_count": 41,
      "outputs": [
        {
          "output_type": "execute_result",
          "data": {
            "text/plain": [
              "{'accuracy': 0.7218323844829869,\n",
              " 'f1': 0.6989250353450294,\n",
              " 'precision': 0.7186466952323352,\n",
              " 'recall': 0.7218323844829869}"
            ]
          },
          "metadata": {},
          "execution_count": 41
        }
      ]
    },
    {
      "cell_type": "markdown",
      "source": [
        "# Model_1 Conv1D with Token Embedding"
      ],
      "metadata": {
        "id": "QXGbhOUHoHtR"
      }
    },
    {
      "cell_type": "code",
      "source": [
        "# explore how long each line is on average\n",
        "length_line = [len(line.split()) for line in train_lines]\n",
        "average_length = np.mean(length_line)\n",
        "average_length"
      ],
      "metadata": {
        "colab": {
          "base_uri": "https://localhost:8080/"
        },
        "id": "tPXVeKveYV3c",
        "outputId": "319bb068-37e3-4440-958f-8fe5ff91edea"
      },
      "execution_count": 42,
      "outputs": [
        {
          "output_type": "execute_result",
          "data": {
            "text/plain": [
              "26.338269273494777"
            ]
          },
          "metadata": {},
          "execution_count": 42
        }
      ]
    },
    {
      "cell_type": "code",
      "source": [
        "plt.hist(length_line, bins=20);"
      ],
      "metadata": {
        "colab": {
          "base_uri": "https://localhost:8080/",
          "height": 265
        },
        "id": "VnFufGIhY28D",
        "outputId": "661d8f7c-d214-4681-c37f-33ce719bc183"
      },
      "execution_count": 43,
      "outputs": [
        {
          "output_type": "display_data",
          "data": {
            "text/plain": [
              "<Figure size 432x288 with 1 Axes>"
            ],
            "image/png": "[encoded data removed]"
          },
          "metadata": {
            "needs_background": "light"
          }
        }
      ]
    },
    {
      "cell_type": "code",
      "source": [
        "text_vectorizer = TextVectorization(max_tokens=68000, # number of words in vocabulary\n",
        "                                    output_sequence_length=int(np.percentile(length_line, 95))) # length of line that covers 95% of data"
      ],
      "metadata": {
        "id": "t0vdCeJqZi13"
      },
      "execution_count": 44,
      "outputs": []
    },
    {
      "cell_type": "code",
      "source": [
        "text_vectorizer.adapt(train_lines)"
      ],
      "metadata": {
        "id": "BZZ39Znxaj0P"
      },
      "execution_count": 45,
      "outputs": []
    },
    {
      "cell_type": "code",
      "source": [
        "# explore text vocabulary characteristics\n",
        "text_vocab = text_vectorizer.get_vocabulary()\n",
        "print(f\"Total vocabulary: {len(text_vocab)}\")\n",
        "print(f\"Most common words: {text_vocab[:5]}\")\n",
        "print(f\"Least common words: {text_vocab[-5:]}\")"
      ],
      "metadata": {
        "colab": {
          "base_uri": "https://localhost:8080/"
        },
        "id": "Tr3vs_lyeAds",
        "outputId": "b40c5e43-0243-4c36-e3af-671fb902f874"
      },
      "execution_count": 46,
      "outputs": [
        {
          "output_type": "stream",
          "name": "stdout",
          "text": [
            "Total vocabulary: 64841\n",
            "Most common words: ['', '[UNK]', 'the', 'and', 'of']\n",
            "Least common words: ['aainduced', 'aaigroup', 'aachener', 'aachen', 'aaacp']\n"
          ]
        }
      ]
    },
    {
      "cell_type": "code",
      "source": [
        "token_embed = layers.Embedding(input_dim=len(text_vocab), \n",
        "                               output_dim=128, \n",
        "                               mask_zero=True, \n",
        "                               name=\"token_embedding\")"
      ],
      "metadata": {
        "id": "vkq0Rx_VbsDA"
      },
      "execution_count": 47,
      "outputs": []
    },
    {
      "cell_type": "code",
      "source": [
        "# sample line to test vectorizer and embedding\n",
        "random_line = random.choice(train_lines)\n",
        "print(f\"Line:\\n {random_line}\")\n",
        "print(f\"\\nLength of line:\\n {len(random_line.split())}\")\n",
        "vectorized_line = text_vectorizer([random_line])\n",
        "print(f\"\\nAfter vectorization:\\n {vectorized_line}\")\n",
        "embedded_line = token_embed(vectorized_line)\n",
        "print(f\"\\nAfter embedding:\\n {embedded_line}\")\n",
        "print(f\"\\nShape of line: {embedded_line.shape}\")"
      ],
      "metadata": {
        "colab": {
          "base_uri": "https://localhost:8080/"
        },
        "id": "jhhB89JEhRQC",
        "outputId": "1a89be1b-df9d-4f7b-f870-b679d4e798d4"
      },
      "execution_count": 48,
      "outputs": [
        {
          "output_type": "stream",
          "name": "stdout",
          "text": [
            "Line:\n",
            " fibromyalgia patients .\n",
            "\n",
            "Length of line:\n",
            " 3\n",
            "\n",
            "After vectorization:\n",
            " [[3987   12    0    0    0    0    0    0    0    0    0    0    0    0\n",
            "     0    0    0    0    0    0    0    0    0    0    0    0    0    0\n",
            "     0    0    0    0    0    0    0    0    0    0    0    0    0    0\n",
            "     0    0    0    0    0    0    0    0    0    0    0    0    0]]\n",
            "\n",
            "After embedding:\n",
            " [[[ 0.03730107 -0.02031229  0.02848077 ...  0.04335574  0.00972165\n",
            "   -0.00612609]\n",
            "  [ 0.04964148 -0.04049734  0.03485424 ...  0.01675363  0.02750082\n",
            "    0.02120557]\n",
            "  [ 0.04259216 -0.03180423 -0.03113142 ... -0.02388157  0.0391424\n",
            "    0.04517678]\n",
            "  ...\n",
            "  [ 0.04259216 -0.03180423 -0.03113142 ... -0.02388157  0.0391424\n",
            "    0.04517678]\n",
            "  [ 0.04259216 -0.03180423 -0.03113142 ... -0.02388157  0.0391424\n",
            "    0.04517678]\n",
            "  [ 0.04259216 -0.03180423 -0.03113142 ... -0.02388157  0.0391424\n",
            "    0.04517678]]]\n",
            "\n",
            "Shape of line: (1, 55, 128)\n"
          ]
        }
      ]
    },
    {
      "cell_type": "code",
      "source": [
        "# create tensorflow datasets\n",
        "train_dataset = tf.data.Dataset.from_tensor_slices((train_lines, train_label_one_hot))\n",
        "val_dataset = tf.data.Dataset.from_tensor_slices((val_lines, val_label_one_hot))\n",
        "test_dataset = tf.data.Dataset.from_tensor_slices((test_lines, test_label_one_hot))\n",
        "\n",
        "train_dataset"
      ],
      "metadata": {
        "colab": {
          "base_uri": "https://localhost:8080/"
        },
        "id": "K5NgH6yIhUTL",
        "outputId": "b1149f5a-cc4f-4bdb-c214-6ea6767ac720"
      },
      "execution_count": 49,
      "outputs": [
        {
          "output_type": "execute_result",
          "data": {
            "text/plain": [
              "<TensorSliceDataset element_spec=(TensorSpec(shape=(), dtype=tf.string, name=None), TensorSpec(shape=(5,), dtype=tf.float64, name=None))>"
            ]
          },
          "metadata": {},
          "execution_count": 49
        }
      ]
    },
    {
      "cell_type": "code",
      "source": [
        "# create batches and prefetch to decrease training time \n",
        "train_dataset = train_dataset.batch(32).prefetch(tf.data.AUTOTUNE)\n",
        "val_dataset = val_dataset.batch(32).prefetch(tf.data.AUTOTUNE)\n",
        "test_dataset = test_dataset.batch(32).prefetch(tf.data.AUTOTUNE)\n",
        "\n",
        "train_dataset"
      ],
      "metadata": {
        "colab": {
          "base_uri": "https://localhost:8080/"
        },
        "id": "Pd1fjXaCuibX",
        "outputId": "56fbc76f-fb7e-4d88-9a5a-da2e0ffac350"
      },
      "execution_count": 50,
      "outputs": [
        {
          "output_type": "execute_result",
          "data": {
            "text/plain": [
              "<PrefetchDataset element_spec=(TensorSpec(shape=(None,), dtype=tf.string, name=None), TensorSpec(shape=(None, 5), dtype=tf.float64, name=None))>"
            ]
          },
          "metadata": {},
          "execution_count": 50
        }
      ]
    },
    {
      "cell_type": "code",
      "source": [
        "inputs = layers.Input(shape=(1,), dtype=tf.string)\n",
        "line_vectors = text_vectorizer(inputs) # create vectorized lines\n",
        "token_embeddings = token_embed(line_vectors) # create token embedding\n",
        "x = layers.Conv1D(64, kernel_size=5, padding=\"same\", activation=\"relu\")(token_embeddings)\n",
        "x = layers.GlobalAveragePooling1D()(x)\n",
        "outputs = layers.Dense(5, activation=\"softmax\")(x)\n",
        "model_1 = tf.keras.Model(inputs, outputs, name=\"Conv1D_token_embedding\")\n",
        "\n",
        "model_1.compile(loss=\"categorical_crossentropy\", \n",
        "                optimizer=tf.keras.optimizers.Adam(),\n",
        "                metrics=[\"accuracy\"])"
      ],
      "metadata": {
        "id": "P726D6QhvH9R"
      },
      "execution_count": 51,
      "outputs": []
    },
    {
      "cell_type": "code",
      "source": [
        "model_1.summary()"
      ],
      "metadata": {
        "colab": {
          "base_uri": "https://localhost:8080/"
        },
        "id": "S1E2mVmzwjp6",
        "outputId": "9c247d17-36df-471d-f933-b4153747edcb"
      },
      "execution_count": 52,
      "outputs": [
        {
          "output_type": "stream",
          "name": "stdout",
          "text": [
            "Model: \"Conv1D_token_embedding\"\n",
            "_________________________________________________________________\n",
            " Layer (type)                Output Shape              Param #   \n",
            "=================================================================\n",
            " input_1 (InputLayer)        [(None, 1)]               0         \n",
            "                                                                 \n",
            " text_vectorization (TextVec  (None, 55)               0         \n",
            " torization)                                                     \n",
            "                                                                 \n",
            " token_embedding (Embedding)  (None, 55, 128)          8299648   \n",
            "                                                                 \n",
            " conv1d (Conv1D)             (None, 55, 64)            41024     \n",
            "                                                                 \n",
            " global_average_pooling1d (G  (None, 64)               0         \n",
            " lobalAveragePooling1D)                                          \n",
            "                                                                 \n",
            " dense (Dense)               (None, 5)                 325       \n",
            "                                                                 \n",
            "=================================================================\n",
            "Total params: 8,340,997\n",
            "Trainable params: 8,340,997\n",
            "Non-trainable params: 0\n",
            "_________________________________________________________________\n"
          ]
        }
      ]
    },
    {
      "cell_type": "code",
      "source": [
        "model_1_history = model_1.fit(train_dataset, \n",
        "                              steps_per_epoch=int(0.1*len(train_dataset)), # use 10% of training data for faster training\n",
        "                              epochs=3, \n",
        "                              validation_data=val_dataset, \n",
        "                              validation_steps=int(0.1*len(val_dataset)))"
      ],
      "metadata": {
        "colab": {
          "base_uri": "https://localhost:8080/"
        },
        "id": "jvY3u8jhwmCN",
        "outputId": "8381fa47-606e-4be6-8709-946d27f4e829"
      },
      "execution_count": 53,
      "outputs": [
        {
          "output_type": "stream",
          "name": "stdout",
          "text": [
            "Epoch 1/3\n",
            "562/562 [==============================] - 20s 17ms/step - loss: 0.9222 - accuracy: 0.6348 - val_loss: 0.6831 - val_accuracy: 0.7427\n",
            "Epoch 2/3\n",
            "562/562 [==============================] - 9s 15ms/step - loss: 0.6555 - accuracy: 0.7571 - val_loss: 0.6274 - val_accuracy: 0.7716\n",
            "Epoch 3/3\n",
            "562/562 [==============================] - 9s 15ms/step - loss: 0.6156 - accuracy: 0.7749 - val_loss: 0.5922 - val_accuracy: 0.7839\n"
          ]
        }
      ]
    },
    {
      "cell_type": "code",
      "source": [
        "# evaluate on full validation dataset\n",
        "model_1.evaluate(val_dataset)"
      ],
      "metadata": {
        "colab": {
          "base_uri": "https://localhost:8080/"
        },
        "id": "Gbiqzk0vxHQP",
        "outputId": "13edaa1f-c6c4-42d3-ce40-f7a4ed484e63"
      },
      "execution_count": 54,
      "outputs": [
        {
          "output_type": "stream",
          "name": "stdout",
          "text": [
            "945/945 [==============================] - 4s 4ms/step - loss: 0.5957 - accuracy: 0.7874\n"
          ]
        },
        {
          "output_type": "execute_result",
          "data": {
            "text/plain": [
              "[0.5956764817237854, 0.7874354720115662]"
            ]
          },
          "metadata": {},
          "execution_count": 54
        }
      ]
    },
    {
      "cell_type": "code",
      "source": [
        "# prediction probablities of each class label \n",
        "model_1_pred_probs = model_1.predict(val_dataset)\n",
        "model_1_pred_probs"
      ],
      "metadata": {
        "colab": {
          "base_uri": "https://localhost:8080/"
        },
        "id": "gZXU-TS6z57a",
        "outputId": "5fcec88f-4571-44e4-f4f5-67aaf9ea5175"
      },
      "execution_count": 55,
      "outputs": [
        {
          "output_type": "execute_result",
          "data": {
            "text/plain": [
              "array([[4.0202335e-01, 1.5529813e-01, 8.7039389e-02, 3.1930539e-01,\n",
              "        3.6333751e-02],\n",
              "       [4.6847573e-01, 2.4363530e-01, 1.2473507e-02, 2.6821813e-01,\n",
              "        7.1973070e-03],\n",
              "       [1.6464174e-01, 6.3217944e-03, 1.6669637e-03, 8.2730728e-01,\n",
              "        6.2193983e-05],\n",
              "       ...,\n",
              "       [4.4435455e-06, 5.2398822e-04, 6.2118302e-04, 3.1209374e-06,\n",
              "        9.9884725e-01],\n",
              "       [5.3342305e-02, 4.7706702e-01, 8.3062425e-02, 7.5795233e-02,\n",
              "        3.1073296e-01],\n",
              "       [1.6561438e-01, 6.7007786e-01, 5.4443348e-02, 3.7427243e-02,\n",
              "        7.2437212e-02]], dtype=float32)"
            ]
          },
          "metadata": {},
          "execution_count": 55
        }
      ]
    },
    {
      "cell_type": "code",
      "source": [
        "# convert to prediction of each class label \n",
        "model_1_preds = tf.argmax(model_1_pred_probs, axis=1)\n",
        "model_1_preds"
      ],
      "metadata": {
        "colab": {
          "base_uri": "https://localhost:8080/"
        },
        "id": "hSvXGgYD0sa0",
        "outputId": "6bddb983-baf1-423e-b457-0ed29735d4e0"
      },
      "execution_count": 56,
      "outputs": [
        {
          "output_type": "execute_result",
          "data": {
            "text/plain": [
              "<tf.Tensor: shape=(30212,), dtype=int64, numpy=array([0, 0, 3, ..., 4, 1, 1])>"
            ]
          },
          "metadata": {},
          "execution_count": 56
        }
      ]
    },
    {
      "cell_type": "code",
      "source": [
        "# model_1 results\n",
        "model_1_result = score(val_label_encode, model_1_preds)\n",
        "model_1_result"
      ],
      "metadata": {
        "colab": {
          "base_uri": "https://localhost:8080/"
        },
        "id": "wbXLfIta0yNS",
        "outputId": "0eed2d57-a100-4700-9c93-5d8fa74bd14e"
      },
      "execution_count": 57,
      "outputs": [
        {
          "output_type": "execute_result",
          "data": {
            "text/plain": [
              "{'accuracy': 0.7874354561101549,\n",
              " 'f1': 0.784871100567116,\n",
              " 'precision': 0.7838735901565689,\n",
              " 'recall': 0.7874354561101549}"
            ]
          },
          "metadata": {},
          "execution_count": 57
        }
      ]
    },
    {
      "cell_type": "markdown",
      "source": [
        "# Model_2 Universal Sentence Encoder (TensorFlow Hub)"
      ],
      "metadata": {
        "id": "QO9lL0oiruZN"
      }
    },
    {
      "cell_type": "code",
      "source": [
        "# download pretrained model from tensorflow hub\n",
        "tf_hub_embedding_layer = hub.KerasLayer(\"https://tfhub.dev/google/universal-sentence-encoder/4\", \n",
        "                                        trainable=False, \n",
        "                                        name=\"universal_sentence_encoder\")"
      ],
      "metadata": {
        "id": "mVMKy5DX0zBh"
      },
      "execution_count": 58,
      "outputs": []
    },
    {
      "cell_type": "code",
      "source": [
        "# sample line to test embedding\n",
        "print(f\"Line:\\n {random_line}\")\n",
        "print(f\"\\nAfter embedding:\\n {tf_hub_embedding_layer([random_line])}\")"
      ],
      "metadata": {
        "colab": {
          "base_uri": "https://localhost:8080/"
        },
        "id": "mbIIcx7A4DNJ",
        "outputId": "dd671570-cec4-46f7-bbd8-00dcbb20b6c0"
      },
      "execution_count": 59,
      "outputs": [
        {
          "output_type": "stream",
          "name": "stdout",
          "text": [
            "Line:\n",
            " fibromyalgia patients .\n",
            "\n",
            "After embedding:\n",
            " [[-2.60524619e-02 -4.28525247e-02  6.29879460e-02  5.93569502e-02\n",
            "   5.90740070e-02  4.24016193e-02 -3.97311188e-02 -1.47258891e-02\n",
            "  -1.41683770e-02 -1.07082515e-03  7.57827163e-02 -4.55350801e-03\n",
            "   5.35512082e-02 -3.11087277e-02  4.14545909e-02 -2.49848552e-02\n",
            "  -7.59159774e-02 -3.28955874e-02  1.05904900e-02 -1.74530614e-02\n",
            "  -1.87391846e-03 -9.79181100e-03  7.33563453e-02 -5.45266941e-02\n",
            "   5.56691848e-02  1.34137850e-02 -5.80500290e-02 -3.06463744e-02\n",
            "   4.88694124e-02 -1.61213882e-03  1.05305780e-02  7.59179890e-02\n",
            "  -3.11058084e-03 -6.95399269e-02  5.98325916e-02  6.08163998e-02\n",
            "   9.12985671e-03  9.39039141e-03  3.35196704e-02 -2.69388873e-02\n",
            "  -6.65149689e-02  5.99102117e-02 -9.67321452e-03 -7.10229203e-02\n",
            "   6.44149855e-02  5.49404956e-02 -4.75791730e-02  2.25850614e-03\n",
            "  -4.46219780e-02  4.36563008e-02 -7.38512948e-02  5.93685843e-02\n",
            "   5.67005482e-03  2.53547300e-02  6.02592565e-02 -6.89642653e-02\n",
            "   4.70706634e-02  4.54183333e-02 -2.58312542e-02  5.75636178e-02\n",
            "  -6.77270964e-02  9.88512114e-03 -7.70683493e-03  3.77650484e-02\n",
            "   2.25457028e-02 -1.00113358e-02  1.24727469e-02 -8.39282013e-03\n",
            "  -2.24297568e-02 -3.01443450e-02  3.70943695e-02 -5.82457669e-02\n",
            "  -4.82092947e-02 -4.50401902e-02 -1.46228978e-02 -1.84625778e-02\n",
            "   6.61186054e-02  2.58242451e-02  1.27839781e-02 -2.98796855e-02\n",
            "  -6.13403274e-03  4.83304029e-03 -2.69037541e-02  5.32350093e-02\n",
            "  -4.24160697e-02 -4.39005010e-02 -3.76702063e-02 -6.97408542e-02\n",
            "  -2.57394332e-02 -7.04110786e-02 -6.60807500e-03 -1.42098293e-02\n",
            "   5.54188378e-02  4.79892083e-02 -6.50521927e-03  2.83688456e-02\n",
            "  -3.69533300e-02 -4.92237695e-02  6.16149977e-04 -3.99692357e-03\n",
            "   6.79130182e-02 -4.96457778e-02 -5.71955666e-02 -4.17631045e-02\n",
            "   4.96918447e-02  5.88376038e-02 -1.07733905e-02 -5.02530709e-02\n",
            "  -6.80257902e-02  4.37967740e-02  3.87570001e-02  9.59898159e-03\n",
            "   2.82418244e-02  6.78415000e-02 -3.88018228e-02 -2.57986393e-02\n",
            "   3.92888747e-02 -6.96555153e-03  6.92290813e-02 -5.60190016e-03\n",
            "  -5.04853837e-02  5.84700443e-02  3.19415401e-03 -1.80009915e-03\n",
            "  -4.51703556e-02  2.26112641e-02 -5.14200293e-02  1.51141426e-02\n",
            "  -1.02429697e-03  3.38724144e-02 -7.49386325e-02  7.59181231e-02\n",
            "   9.82335676e-03  2.61862781e-02 -4.14796509e-02 -5.77698648e-02\n",
            "  -4.54667136e-02  6.89286664e-02  1.13646770e-02  5.25719821e-02\n",
            "  -7.00287223e-02  7.22938171e-03 -4.62989472e-02  9.40868165e-03\n",
            "   2.33223476e-02 -4.43228707e-02 -5.06710112e-02 -4.28797901e-02\n",
            "   6.50667027e-02  1.81919020e-02  4.26137000e-02 -1.50379259e-02\n",
            "  -2.58100480e-02  6.90997094e-02  4.17884216e-02 -2.99515668e-03\n",
            "   1.80870630e-02 -5.23120165e-02  4.97182868e-02 -4.62124497e-02\n",
            "  -7.03807771e-02 -8.74438789e-04  6.08351789e-02 -5.30497022e-02\n",
            "  -4.37730961e-02 -3.26670408e-02 -5.32746837e-02  2.61688363e-02\n",
            "  -4.21287604e-02 -6.98706415e-03 -4.65868227e-02 -7.52365142e-02\n",
            "  -6.59560710e-02 -5.08894697e-02 -5.24445958e-02 -6.28110990e-02\n",
            "   4.92774695e-02 -6.70734346e-02 -1.46713406e-02  2.23514605e-02\n",
            "  -7.28399679e-02 -4.77083363e-02  8.83599278e-03 -4.69311923e-02\n",
            "   2.28281133e-02  4.09193225e-02 -4.20351103e-02  2.41956264e-02\n",
            "  -5.34908064e-02  4.26590256e-02 -4.46649566e-02  2.50333566e-02\n",
            "   6.01431802e-02 -4.06777300e-03 -7.10460246e-02 -2.76803561e-02\n",
            "   3.77385803e-02  6.50759903e-04  8.22041649e-03 -2.59350911e-02\n",
            "  -3.65759656e-02 -6.23271205e-02 -2.21135840e-03  8.47946201e-03\n",
            "   4.39290963e-02 -2.59346850e-02  3.48213427e-02 -7.49700218e-02\n",
            "   8.10113177e-03  2.91917529e-02 -2.31799390e-02 -6.30670646e-03\n",
            "  -6.53428435e-02  1.61672495e-02 -5.07895574e-02 -2.77645364e-02\n",
            "   6.57370239e-02  1.44832386e-02 -2.32743919e-02  7.50816986e-02\n",
            "  -6.46602586e-02  5.90454489e-02  6.76557273e-02  2.30464991e-02\n",
            "   4.68693376e-02  3.04493401e-02  1.33556742e-02  2.01482046e-02\n",
            "  -2.77344100e-02 -1.26424888e-02 -6.69155568e-02 -3.57648991e-02\n",
            "   8.06599949e-03  6.54540658e-02  6.94333464e-02  5.51821589e-02\n",
            "   2.62634587e-02 -1.03780031e-02  5.06353937e-02  4.14835289e-03\n",
            "   1.10613983e-02 -1.42885176e-02  4.09146026e-02 -7.09330663e-02\n",
            "   6.28921092e-02  3.51845883e-02 -2.63909455e-02 -3.91637720e-02\n",
            "  -5.75156063e-02 -7.57889077e-02  7.04609752e-02 -2.35437229e-02\n",
            "  -5.47214821e-02  4.07403260e-02  6.23078868e-02 -2.09208466e-02\n",
            "   8.61311518e-03 -4.24254015e-02  3.07342336e-02  6.30159900e-02\n",
            "   3.23904771e-03  1.39459027e-02  5.04202433e-02  4.93244119e-02\n",
            "  -6.13756217e-02 -4.03805375e-02  1.66823482e-03  6.72202781e-02\n",
            "   1.48378499e-02 -6.04005950e-03 -4.77616191e-02 -6.62347451e-02\n",
            "   5.13869785e-02 -7.51651973e-02 -7.23200515e-02 -1.70536563e-02\n",
            "  -5.33534288e-02  6.63965195e-02  7.39550591e-02  1.51378550e-02\n",
            "   2.69609690e-02 -9.45457537e-03 -1.52290119e-02 -4.23487648e-02\n",
            "  -2.58699507e-02 -1.14572253e-02  7.28787556e-02 -3.87783982e-02\n",
            "  -6.94355145e-02  5.46969883e-02 -5.85317798e-02  1.16027109e-02\n",
            "   7.47227073e-02  6.35907501e-02 -6.16297908e-02 -3.31565514e-02\n",
            "   3.46743241e-02 -8.41184333e-03  1.28450012e-02  4.25927565e-02\n",
            "  -2.91167703e-02  2.68434044e-02  5.34562208e-02 -6.80491999e-02\n",
            "   2.10675877e-03 -2.63889004e-02  1.85227152e-02  3.16384286e-02\n",
            "  -1.01043740e-02 -7.63232494e-03 -6.90389723e-02 -2.93281395e-02\n",
            "   4.65355888e-02 -1.78827439e-02  5.56561127e-02 -2.98017003e-02\n",
            "   5.00231199e-02  5.76755591e-02  3.16272713e-02  4.36650142e-02\n",
            "  -1.62623562e-02 -1.27702055e-03  7.26822913e-02  4.03743982e-02\n",
            "  -6.94997385e-02  4.96071018e-02 -1.69386156e-02  6.03037188e-03\n",
            "  -4.19105664e-02 -4.29560989e-02 -4.59366888e-02 -4.69535924e-02\n",
            "   4.73127179e-02  3.77828628e-02  4.58423086e-02  1.55247422e-02\n",
            "  -6.10060580e-02  6.94756359e-02 -3.58959362e-02 -3.73519622e-02\n",
            "  -3.40277590e-02  2.15093214e-02  7.06232116e-02  3.33456583e-02\n",
            "   3.16998549e-02  3.74400755e-03  6.35589585e-02  1.77390911e-02\n",
            "  -5.20707108e-02  5.71614429e-02 -2.34670527e-02 -1.90204363e-02\n",
            "   4.84227017e-02  1.26831774e-02  1.06269354e-02 -7.18671829e-02\n",
            "  -6.71858713e-02 -3.83259803e-02  1.00532239e-02 -2.29009818e-02\n",
            "  -4.91602123e-02  4.33010347e-02 -3.31134982e-02  1.87379047e-02\n",
            "   5.32999933e-02 -7.42673203e-02  2.95435004e-02  3.80247757e-02\n",
            "  -1.12014432e-02 -5.27580902e-02 -3.16394344e-02  5.45354821e-02\n",
            "  -2.43048128e-02 -9.82377119e-03  5.79034314e-02  6.40689507e-02\n",
            "   1.85325630e-02 -7.41104558e-02  5.58923185e-03  5.78200705e-02\n",
            "   7.43243098e-02 -5.32975495e-02 -2.31032167e-02  5.01540117e-02\n",
            "  -1.67702436e-02 -3.47406678e-02  2.96604857e-02  6.24822453e-03\n",
            "   5.23434840e-02 -7.33992681e-02  3.23885567e-02 -5.81249706e-02\n",
            "  -5.74520975e-02  5.77336811e-02  4.48963493e-02 -6.42477125e-02\n",
            "  -7.31292693e-03 -1.33069679e-02 -3.80194858e-02  1.69365648e-02\n",
            "  -6.56291321e-02 -5.20962067e-02  6.00858442e-02 -5.78209758e-02\n",
            "   2.96466779e-02  1.89641546e-02 -6.98275417e-02 -3.14204507e-02\n",
            "  -1.02336779e-02 -3.09277549e-02  4.16964013e-03 -3.52563299e-02\n",
            "   2.31915936e-02  2.06926162e-03 -4.29656431e-02 -6.32510036e-02\n",
            "  -3.91229950e-02  4.13659029e-03 -1.00141298e-02 -1.98082495e-02\n",
            "  -5.97090041e-03 -1.70031618e-02 -3.77749605e-03 -2.13943962e-02\n",
            "   3.69861610e-02 -4.49894145e-02  4.57988046e-02  4.11838293e-02\n",
            "  -8.40611570e-03 -4.87910509e-02 -7.16447979e-02 -4.41387892e-02\n",
            "   2.49876715e-02 -2.77990922e-02  3.15013193e-02 -5.14782146e-02\n",
            "   1.77645143e-02  6.97885379e-02 -5.23879044e-02 -4.63429131e-02\n",
            "   3.76493335e-02 -2.62047425e-02 -3.39020789e-02  2.97180284e-03\n",
            "   1.58951283e-02 -5.96922897e-02 -5.38367294e-02 -1.96607653e-02\n",
            "   7.99872633e-03 -2.53788803e-05 -5.68547919e-02  1.72410142e-02\n",
            "   6.07731454e-02  2.84731220e-02  7.34990314e-02 -9.05422773e-03\n",
            "  -7.40172714e-02  6.30560368e-02  6.86215013e-02  2.75433194e-02\n",
            "   4.69979122e-02  5.08959517e-02 -2.54540257e-02 -5.67002967e-02\n",
            "  -4.23927642e-02 -1.67124141e-02  6.89354539e-02  2.72586774e-02\n",
            "   3.14978734e-02 -9.92142945e-04  3.35577950e-02 -3.95235904e-02\n",
            "  -7.53378719e-02  7.08806589e-02 -3.88852470e-02  5.42743467e-02\n",
            "   6.58671111e-02  4.03929166e-02  5.74874915e-02 -1.70092378e-02\n",
            "  -3.04719396e-02 -5.19968569e-02 -3.77764814e-02  1.40820714e-02\n",
            "  -7.13410079e-02  3.39108557e-02  4.25166823e-02 -4.50785980e-02\n",
            "   1.16723627e-02 -7.15726539e-02 -3.22241187e-02 -5.55298403e-02\n",
            "  -6.40378743e-02 -6.98296055e-02  6.15734644e-02 -2.92022899e-02\n",
            "   3.29402499e-02 -6.66662455e-02 -6.14606217e-02 -5.65334968e-02\n",
            "   2.89115943e-02 -4.96274643e-02  3.63952257e-02 -6.95079193e-02\n",
            "  -4.20002127e-03 -7.59180561e-02 -5.85824922e-02  2.22735340e-03\n",
            "   4.44460511e-02 -3.38559435e-03 -6.13533258e-02  1.67473592e-02]]\n"
          ]
        }
      ]
    },
    {
      "cell_type": "code",
      "source": [
        "inputs = layers.Input(shape=[], dtype=tf.string)\n",
        "pretrained_embedding = tf_hub_embedding_layer(inputs)\n",
        "x = layers.Dense(128, activation=\"relu\")(pretrained_embedding)\n",
        "outputs = layers.Dense(5, activation=\"softmax\")(x)\n",
        "model_2 = tf.keras.Model(inputs, outputs, name=\"Universal_Sentence_Encoder_Tf.hub\")\n",
        "\n",
        "model_2.compile(loss=\"categorical_crossentropy\", \n",
        "                optimizer=tf.keras.optimizers.Adam(), \n",
        "                metrics=[\"accuracy\"])"
      ],
      "metadata": {
        "id": "AW5Zxslb4z2N"
      },
      "execution_count": 60,
      "outputs": []
    },
    {
      "cell_type": "code",
      "source": [
        "model_2.summary()"
      ],
      "metadata": {
        "colab": {
          "base_uri": "https://localhost:8080/"
        },
        "id": "3dPsnzAh6Brz",
        "outputId": "12db56e2-5919-41db-b709-0ba6cea66a81"
      },
      "execution_count": 61,
      "outputs": [
        {
          "output_type": "stream",
          "name": "stdout",
          "text": [
            "Model: \"Universal_Sentence_Encoder_Tf.hub\"\n",
            "_________________________________________________________________\n",
            " Layer (type)                Output Shape              Param #   \n",
            "=================================================================\n",
            " input_2 (InputLayer)        [(None,)]                 0         \n",
            "                                                                 \n",
            " universal_sentence_encoder   (None, 512)              256797824 \n",
            " (KerasLayer)                                                    \n",
            "                                                                 \n",
            " dense_1 (Dense)             (None, 128)               65664     \n",
            "                                                                 \n",
            " dense_2 (Dense)             (None, 5)                 645       \n",
            "                                                                 \n",
            "=================================================================\n",
            "Total params: 256,864,133\n",
            "Trainable params: 66,309\n",
            "Non-trainable params: 256,797,824\n",
            "_________________________________________________________________\n"
          ]
        }
      ]
    },
    {
      "cell_type": "code",
      "source": [
        "model_2_history = model_2.fit(train_dataset, \n",
        "                              steps_per_epoch=int(0.1*len(train_dataset)), \n",
        "                              epochs=3, \n",
        "                              validation_data=val_dataset, \n",
        "                              validation_steps=int(0.1*len(val_dataset)))"
      ],
      "metadata": {
        "colab": {
          "base_uri": "https://localhost:8080/"
        },
        "id": "jFK6qrWf6JCF",
        "outputId": "ff0b9237-e58f-453f-880a-d60b0da1c96b"
      },
      "execution_count": 62,
      "outputs": [
        {
          "output_type": "stream",
          "name": "stdout",
          "text": [
            "Epoch 1/3\n",
            "562/562 [==============================] - 13s 19ms/step - loss: 0.9114 - accuracy: 0.6510 - val_loss: 0.7988 - val_accuracy: 0.6898\n",
            "Epoch 2/3\n",
            "562/562 [==============================] - 10s 18ms/step - loss: 0.7708 - accuracy: 0.7000 - val_loss: 0.7578 - val_accuracy: 0.7041\n",
            "Epoch 3/3\n",
            "562/562 [==============================] - 11s 19ms/step - loss: 0.7547 - accuracy: 0.7121 - val_loss: 0.7424 - val_accuracy: 0.7138\n"
          ]
        }
      ]
    },
    {
      "cell_type": "code",
      "source": [
        "# evaluate on full validation dataset\n",
        "model_2.evaluate(val_dataset)"
      ],
      "metadata": {
        "colab": {
          "base_uri": "https://localhost:8080/"
        },
        "id": "rVYCjuPU6TQU",
        "outputId": "416e4627-b1ae-4a1e-eb51-c7922f820be4"
      },
      "execution_count": 63,
      "outputs": [
        {
          "output_type": "stream",
          "name": "stdout",
          "text": [
            "945/945 [==============================] - 28s 29ms/step - loss: 0.7439 - accuracy: 0.7133\n"
          ]
        },
        {
          "output_type": "execute_result",
          "data": {
            "text/plain": [
              "[0.743874728679657, 0.7133258581161499]"
            ]
          },
          "metadata": {},
          "execution_count": 63
        }
      ]
    },
    {
      "cell_type": "code",
      "source": [
        "# prediction probabilities of each class label \n",
        "model_2_pred_probs = model_2.predict(val_dataset)\n",
        "model_2_pred_probs"
      ],
      "metadata": {
        "colab": {
          "base_uri": "https://localhost:8080/"
        },
        "id": "GrrfNvBD63lg",
        "outputId": "89860d8b-449a-4c96-95f8-599c306a8d15"
      },
      "execution_count": 64,
      "outputs": [
        {
          "output_type": "execute_result",
          "data": {
            "text/plain": [
              "array([[0.42419216, 0.36509672, 0.00236536, 0.1999258 , 0.00842007],\n",
              "       [0.32696626, 0.52855265, 0.00359475, 0.138131  , 0.00275534],\n",
              "       [0.22960792, 0.16388236, 0.02117698, 0.54487103, 0.04046167],\n",
              "       ...,\n",
              "       [0.00211373, 0.00660345, 0.05542031, 0.00099931, 0.9348632 ],\n",
              "       [0.00409227, 0.04907678, 0.21842825, 0.00140184, 0.7270009 ],\n",
              "       [0.19611695, 0.2749662 , 0.4703957 , 0.00676486, 0.05175627]],\n",
              "      dtype=float32)"
            ]
          },
          "metadata": {},
          "execution_count": 64
        }
      ]
    },
    {
      "cell_type": "code",
      "source": [
        "# convert to prediction of each class label \n",
        "model_2_preds = tf.argmax(model_2_pred_probs, axis=1)\n",
        "model_2_preds"
      ],
      "metadata": {
        "colab": {
          "base_uri": "https://localhost:8080/"
        },
        "id": "pe_2piuY68SS",
        "outputId": "ba0404b6-734c-44e5-f0e2-92a5b33602c8"
      },
      "execution_count": 65,
      "outputs": [
        {
          "output_type": "execute_result",
          "data": {
            "text/plain": [
              "<tf.Tensor: shape=(30212,), dtype=int64, numpy=array([0, 1, 3, ..., 4, 4, 2])>"
            ]
          },
          "metadata": {},
          "execution_count": 65
        }
      ]
    },
    {
      "cell_type": "code",
      "source": [
        "# model_2 results \n",
        "model_2_result = score(val_label_encode, model_2_preds)\n",
        "model_2_result"
      ],
      "metadata": {
        "colab": {
          "base_uri": "https://localhost:8080/"
        },
        "id": "6_ikPEIz7Chl",
        "outputId": "6f0e5b86-535f-4474-c808-90554538597c"
      },
      "execution_count": 66,
      "outputs": [
        {
          "output_type": "execute_result",
          "data": {
            "text/plain": [
              "{'accuracy': 0.7133258307957103,\n",
              " 'f1': 0.7103076608633424,\n",
              " 'precision': 0.713576247771229,\n",
              " 'recall': 0.7133258307957103}"
            ]
          },
          "metadata": {},
          "execution_count": 66
        }
      ]
    },
    {
      "cell_type": "markdown",
      "source": [
        "# Model_3 Conv1D with Character Embedding"
      ],
      "metadata": {
        "id": "ijqaBiH4sRhk"
      }
    },
    {
      "cell_type": "code",
      "source": [
        "# split lines into individual characters\n",
        "def split_chars(line): \n",
        "  return \" \".join(list(line))"
      ],
      "metadata": {
        "id": "oHkWCijb7ca5"
      },
      "execution_count": 67,
      "outputs": []
    },
    {
      "cell_type": "code",
      "source": [
        "train_char = [split_chars(line) for line in train_lines]\n",
        "val_char = [split_chars(line) for line in val_lines]\n",
        "test_char = [split_chars(line) for line in test_lines]\n",
        "\n",
        "train_char[:20]"
      ],
      "metadata": {
        "colab": {
          "base_uri": "https://localhost:8080/"
        },
        "id": "oIFA1CQuJXrv",
        "outputId": "170c055a-2f23-4e97-a384-eb3762369c2a"
      },
      "execution_count": 68,
      "outputs": [
        {
          "output_type": "execute_result",
          "data": {
            "text/plain": [
              "['t o   i n v e s t i g a t e   t h e   e f f i c a c y   o f   @   w e e k s   o f   d a i l y   l o w - d o s e   o r a l   p r e d n i s o l o n e   i n   i m p r o v i n g   p a i n   ,   m o b i l i t y   ,   a n d   s y s t e m i c   l o w - g r a d e   i n f l a m m a t i o n   i n   t h e   s h o r t   t e r m   a n d   w h e t h e r   t h e   e f f e c t   w o u l d   b e   s u s t a i n e d   a t   @   w e e k s   i n   o l d e r   a d u l t s   w i t h   m o d e r a t e   t o   s e v e r e   k n e e   o s t e o a r t h r i t i s   (   o a   )   .',\n",
              " 'a   t o t a l   o f   @   p a t i e n t s   w i t h   p r i m a r y   k n e e   o a   w e r e   r a n d o m i z e d   @ : @   ;   @   r e c e i v e d   @   m g / d a y   o f   p r e d n i s o l o n e   a n d   @   r e c e i v e d   p l a c e b o   f o r   @   w e e k s   .',\n",
              " 'o u t c o m e   m e a s u r e s   i n c l u d e d   p a i n   r e d u c t i o n   a n d   i m p r o v e m e n t   i n   f u n c t i o n   s c o r e s   a n d   s y s t e m i c   i n f l a m m a t i o n   m a r k e r s   .',\n",
              " 'p a i n   w a s   a s s e s s e d   u s i n g   t h e   v i s u a l   a n a l o g   p a i n   s c a l e   (   @ - @   m m   )   .',\n",
              " 's e c o n d a r y   o u t c o m e   m e a s u r e s   i n c l u d e d   t h e   w e s t e r n   o n t a r i o   a n d   m c m a s t e r   u n i v e r s i t i e s   o s t e o a r t h r i t i s   i n d e x   s c o r e s   ,   p a t i e n t   g l o b a l   a s s e s s m e n t   (   p g a   )   o f   t h e   s e v e r i t y   o f   k n e e   o a   ,   a n d   @ - m i n   w a l k   d i s t a n c e   (   @ m w d   )   .',\n",
              " 's e r u m   l e v e l s   o f   i n t e r l e u k i n   @   (   i l - @   )   ,   i l - @   ,   t u m o r   n e c r o s i s   f a c t o r   (   t n f   )   -   ,   a n d   h i g h - s e n s i t i v i t y   c - r e a c t i v e   p r o t e i n   (   h s c r p   )   w e r e   m e a s u r e d   .',\n",
              " 't h e r e   w a s   a   c l i n i c a l l y   r e l e v a n t   r e d u c t i o n   i n   t h e   i n t e r v e n t i o n   g r o u p   c o m p a r e d   t o   t h e   p l a c e b o   g r o u p   f o r   k n e e   p a i n   ,   p h y s i c a l   f u n c t i o n   ,   p g a   ,   a n d   @ m w d   a t   @   w e e k s   .',\n",
              " 't h e   m e a n   d i f f e r e n c e   b e t w e e n   t r e a t m e n t   a r m s   (   @   %   c i   )   w a s   @   (   @ - @   @   )   ,   p   <   @   ;   @   (   @ - @   @   )   ,   p   <   @   ;   @   (   @ - @   @   )   ,   p   <   @   ;   a n d   @   (   @ - @   @   )   ,   p   <   @   ,   r e s p e c t i v e l y   .',\n",
              " 'f u r t h e r   ,   t h e r e   w a s   a   c l i n i c a l l y   r e l e v a n t   r e d u c t i o n   i n   t h e   s e r u m   l e v e l s   o f   i l - @   ,   i l - @   ,   t n f   -   ,   a n d   h s c r p   a t   @   w e e k s   i n   t h e   i n t e r v e n t i o n   g r o u p   w h e n   c o m p a r e d   t o   t h e   p l a c e b o   g r o u p   .',\n",
              " 't h e s e   d i f f e r e n c e s   r e m a i n e d   s i g n i f i c a n t   a t   @   w e e k s   .',\n",
              " 't h e   o u t c o m e   m e a s u r e s   i n   r h e u m a t o l o g y   c l i n i c a l   t r i a l s - o s t e o a r t h r i t i s   r e s e a r c h   s o c i e t y   i n t e r n a t i o n a l   r e s p o n d e r   r a t e   w a s   @   %   i n   t h e   i n t e r v e n t i o n   g r o u p   a n d   @   %   i n   t h e   p l a c e b o   g r o u p   (   p   <   @   )   .',\n",
              " 'l o w - d o s e   o r a l   p r e d n i s o l o n e   h a d   b o t h   a   s h o r t - t e r m   a n d   a   l o n g e r   s u s t a i n e d   e f f e c t   r e s u l t i n g   i n   l e s s   k n e e   p a i n   ,   b e t t e r   p h y s i c a l   f u n c t i o n   ,   a n d   a t t e n u a t i o n   o f   s y s t e m i c   i n f l a m m a t i o n   i n   o l d e r   p a t i e n t s   w i t h   k n e e   o a   (   c l i n i c a l t r i a l s . g o v   i d e n t i f i e r   n c t @   )   .',\n",
              " 'e m o t i o n a l   e a t i n g   i s   a s s o c i a t e d   w i t h   o v e r e a t i n g   a n d   t h e   d e v e l o p m e n t   o f   o b e s i t y   .',\n",
              " 'y e t   ,   e m p i r i c a l   e v i d e n c e   f o r   i n d i v i d u a l   (   t r a i t   )   d i f f e r e n c e s   i n   e m o t i o n a l   e a t i n g   a n d   c o g n i t i v e   m e c h a n i s m s   t h a t   c o n t r i b u t e   t o   e a t i n g   d u r i n g   s a d   m o o d   r e m a i n   e q u i v o c a l   .',\n",
              " 't h e   a i m   o f   t h i s   s t u d y   w a s   t o   t e s t   i f   a t t e n t i o n   b i a s   f o r   f o o d   m o d e r a t e s   t h e   e f f e c t   o f   s e l f - r e p o r t e d   e m o t i o n a l   e a t i n g   d u r i n g   s a d   m o o d   (   v s   n e u t r a l   m o o d   )   o n   a c t u a l   f o o d   i n t a k e   .',\n",
              " 'i t   w a s   e x p e c t e d   t h a t   e m o t i o n a l   e a t i n g   i s   p r e d i c t i v e   o f   e l e v a t e d   a t t e n t i o n   f o r   f o o d   a n d   h i g h e r   f o o d   i n t a k e   a f t e r   a n   e x p e r i m e n t a l l y   i n d u c e d   s a d   m o o d   a n d   t h a t   a t t e n t i o n a l   m a i n t e n a n c e   o n   f o o d   p r e d i c t s   f o o d   i n t a k e   d u r i n g   a   s a d   v e r s u s   a   n e u t r a l   m o o d   .',\n",
              " 'p a r t i c i p a n t s   (   n   =   @   )   w e r e   r a n d o m l y   a s s i g n e d   t o   o n e   o f   t h e   t w o   e x p e r i m e n t a l   m o o d   i n d u c t i o n   c o n d i t i o n s   (   s a d / n e u t r a l   )   .',\n",
              " 'a t t e n t i o n a l   b i a s e s   f o r   h i g h   c a l o r i c   f o o d s   w e r e   m e a s u r e d   b y   e y e   t r a c k i n g   d u r i n g   a   v i s u a l   p r o b e   t a s k   w i t h   p i c t o r i a l   f o o d   a n d   n e u t r a l   s t i m u l i   .',\n",
              " 's e l f - r e p o r t e d   e m o t i o n a l   e a t i n g   w a s   a s s e s s e d   w i t h   t h e   d u t c h   e a t i n g   b e h a v i o r   q u e s t i o n n a i r e   (   d e b q   )   a n d   a d   l i b i t u m   f o o d   i n t a k e   w a s   t e s t e d   b y   a   d i s g u i s e d   f o o d   o f f e r   .',\n",
              " 'h i e r a r c h i c a l   m u l t i v a r i a t e   r e g r e s s i o n   m o d e l i n g   s h o w e d   t h a t   s e l f - r e p o r t e d   e m o t i o n a l   e a t i n g   d i d   n o t   a c c o u n t   f o r   c h a n g e s   i n   a t t e n t i o n   a l l o c a t i o n   f o r   f o o d   o r   f o o d   i n t a k e   i n   e i t h e r   c o n d i t i o n   .']"
            ]
          },
          "metadata": {},
          "execution_count": 68
        }
      ]
    },
    {
      "cell_type": "code",
      "source": [
        "# explore how many characters each line has on average\n",
        "length_char = [len(line) for line in train_lines]\n",
        "average_length = np.mean(length_char)\n",
        "average_length"
      ],
      "metadata": {
        "colab": {
          "base_uri": "https://localhost:8080/"
        },
        "id": "pxaHnPNTJnKM",
        "outputId": "2092e884-6fe3-478f-8f32-8f5b73348c9a"
      },
      "execution_count": 69,
      "outputs": [
        {
          "output_type": "execute_result",
          "data": {
            "text/plain": [
              "149.3662574983337"
            ]
          },
          "metadata": {},
          "execution_count": 69
        }
      ]
    },
    {
      "cell_type": "code",
      "source": [
        "plt.hist(length_char, bins=10);"
      ],
      "metadata": {
        "colab": {
          "base_uri": "https://localhost:8080/",
          "height": 265
        },
        "id": "7sAzaEAJKG26",
        "outputId": "ca8c8657-9f43-4268-ff38-b9ea95c61b90"
      },
      "execution_count": 70,
      "outputs": [
        {
          "output_type": "display_data",
          "data": {
            "text/plain": [
              "<Figure size 432x288 with 1 Axes>"
            ],
            "image/png": "[encoded data removed]"
          },
          "metadata": {
            "needs_background": "light"
          }
        }
      ]
    },
    {
      "cell_type": "code",
      "source": [
        "alphabet = string.ascii_lowercase + string.digits + string.punctuation \n",
        "alphabet"
      ],
      "metadata": {
        "colab": {
          "base_uri": "https://localhost:8080/",
          "height": 35
        },
        "id": "qVrC1F2FKLNg",
        "outputId": "655565d0-1241-4995-f0b6-76f8c7f2c8db"
      },
      "execution_count": 73,
      "outputs": [
        {
          "output_type": "execute_result",
          "data": {
            "text/plain": [
              "'abcdefghijklmnopqrstuvwxyz0123456789!\"#$%&\\'()*+,-./:;<=>?@[\\\\]^_`{|}~'"
            ],
            "application/vnd.google.colaboratory.intrinsic+json": {
              "type": "string"
            }
          },
          "metadata": {},
          "execution_count": 73
        }
      ]
    },
    {
      "cell_type": "code",
      "source": [
        "char_vectorizer = TextVectorization(max_tokens=len(alphabet), # all keyboard characters\n",
        "                                    output_sequence_length=int(np.percentile(length_char, 95)), # number of characters that cover 95% of lines\n",
        "                                    standardize=None, \n",
        "                                    name=\"char_vectorizer\")\n",
        "\n",
        "char_vectorizer.adapt(train_char)"
      ],
      "metadata": {
        "id": "bQ5aoZSnKktd"
      },
      "execution_count": 74,
      "outputs": []
    },
    {
      "cell_type": "code",
      "source": [
        "# explore character vocabulary characteristics\n",
        "char_vocab = char_vectorizer.get_vocabulary()\n",
        "print(f\"Total characters: {len(char_vocab)}\")\n",
        "print(f\"Most common characters: {char_vocab[:5]}\")\n",
        "print(f\"Least common characters: {char_vocab[-5:]}\")"
      ],
      "metadata": {
        "colab": {
          "base_uri": "https://localhost:8080/"
        },
        "id": "SqNOH2YqLTT4",
        "outputId": "c043fe1d-0a9a-4c8e-a414-d777b0e688b2"
      },
      "execution_count": 75,
      "outputs": [
        {
          "output_type": "stream",
          "name": "stdout",
          "text": [
            "Total characters: 57\n",
            "Most common characters: ['', '[UNK]', 'e', 't', 'i']\n",
            "Least common characters: ['|', '\"', ']', '\\\\', '[']\n"
          ]
        }
      ]
    },
    {
      "cell_type": "code",
      "source": [
        "char_embed = layers.Embedding(input_dim=57, \n",
        "                              output_dim=25, \n",
        "                              mask_zero=False, \n",
        "                              name=\"char_embed\")"
      ],
      "metadata": {
        "id": "w7iY_xR7MC6S"
      },
      "execution_count": 76,
      "outputs": []
    },
    {
      "cell_type": "code",
      "source": [
        "# sample line to test vectorizer and embedding\n",
        "random_char = random.choice(train_char)\n",
        "print(f\"Line:\\n {random_char}\")\n",
        "print(f\"\\nLength of line:\\n {len(random_char.split())}\")\n",
        "vectorized_char = char_vectorizer([random_char])\n",
        "print(f\"\\nAfter vectorization:\\n {vectorized_char}\")\n",
        "embedded_char = char_embed(vectorized_char)\n",
        "print(f\"\\nAfter embedding:\\n {embedded_char}\")\n",
        "print(f\"\\nShape of line: {embedded_char.shape}\")"
      ],
      "metadata": {
        "colab": {
          "base_uri": "https://localhost:8080/"
        },
        "id": "ha85377PLoDS",
        "outputId": "c137b9ef-13af-4f34-bf67-414e8b0243ca"
      },
      "execution_count": 77,
      "outputs": [
        {
          "output_type": "stream",
          "name": "stdout",
          "text": [
            "Line:\n",
            " m u l t i v a r i a t e   c o x   m o d e l s   w e r e   u s e d   t o   a s s e s s   t h e   i n f l u e n c e   o f   t i m e - d e p e n d e n t   a p p r o p r i a t e   a n d   i n a p p r o p r i a t e   i c d   t h e r a p y   (   s h o c k   a n d   a n t i t a c h y c a r d i a   p a c i n g   )   a n d   r a n d o m i z e d   p r o g r a m m i n g   a r m   o n   a l l - c a u s e   m o r t a l i t y   .\n",
            "\n",
            "Length of line:\n",
            " 181\n",
            "\n",
            "After vectorization:\n",
            " [[15 16 12  3  4 22  5  8  4  5  3  2 11  7 30 15  7 10  2 12  9 21  2  8\n",
            "   2 16  9  2 10  3  7  5  9  9  2  9  9  3 13  2  4  6 17 12 16  2  6 11\n",
            "   2  7 17  3  4 15  2 26 10  2 14  2  6 10  2  6  3  5 14 14  8  7 14  8\n",
            "   4  5  3  2  5  6 10  4  6  5 14 14  8  7 14  8  4  5  3  2  4 11 10  3\n",
            "  13  2  8  5 14 20 28  9 13  7 11 29  5  6 10  5  6  3  4  3  5 11 13 20\n",
            "  11  5  8 10  4  5 14  5 11  4  6 18 27  5  6 10  8  5  6 10  7 15  4 32\n",
            "   2 10 14  8  7 18  8  5 15 15  4  6 18  5  8 15  7  6  5 12 12 26 11  5\n",
            "  16  9  2 15  7  8  3  5 12  4  3 20 25  0  0  0  0  0  0  0  0  0  0  0\n",
            "   0  0  0  0  0  0  0  0  0  0  0  0  0  0  0  0  0  0  0  0  0  0  0  0\n",
            "   0  0  0  0  0  0  0  0  0  0  0  0  0  0  0  0  0  0  0  0  0  0  0  0\n",
            "   0  0  0  0  0  0  0  0  0  0  0  0  0  0  0  0  0  0  0  0  0  0  0  0\n",
            "   0  0  0  0  0  0  0  0  0  0  0  0  0  0  0  0  0  0  0  0  0  0  0  0\n",
            "   0  0]]\n",
            "\n",
            "After embedding:\n",
            " [[[-0.01805599 -0.01103436  0.00412171 ...  0.02518385  0.00714426\n",
            "    0.00214773]\n",
            "  [-0.04153867 -0.02485573  0.03388586 ...  0.04771693  0.02613002\n",
            "   -0.02935155]\n",
            "  [-0.00912122  0.01484841  0.0209964  ... -0.04059968 -0.01087188\n",
            "   -0.04799579]\n",
            "  ...\n",
            "  [-0.00545311  0.00338135 -0.02609333 ... -0.00935657 -0.02436479\n",
            "   -0.03033581]\n",
            "  [-0.00545311  0.00338135 -0.02609333 ... -0.00935657 -0.02436479\n",
            "   -0.03033581]\n",
            "  [-0.00545311  0.00338135 -0.02609333 ... -0.00935657 -0.02436479\n",
            "   -0.03033581]]]\n",
            "\n",
            "Shape of line: (1, 290, 25)\n"
          ]
        }
      ]
    },
    {
      "cell_type": "code",
      "source": [
        "inputs = layers.Input(shape=(1,), dtype=\"string\")\n",
        "char_vectors = char_vectorizer(inputs)\n",
        "char_embeddings = char_embed(char_vectors)\n",
        "x = layers.Conv1D(64, kernel_size=5, padding=\"same\", activation=\"relu\")(char_embeddings)\n",
        "x = layers.GlobalMaxPool1D()(x)\n",
        "outputs = layers.Dense(5, activation=\"softmax\")(x)\n",
        "model_3 = tf.keras.Model(inputs, outputs, name=\"Conv1D_char_embedding\")\n",
        "\n",
        "model_3.compile(loss=\"categorical_crossentropy\", \n",
        "                optimizer=tf.keras.optimizers.Adam(),\n",
        "                metrics=[\"accuracy\"])"
      ],
      "metadata": {
        "id": "6HLlFhWKNNxi"
      },
      "execution_count": 78,
      "outputs": []
    },
    {
      "cell_type": "code",
      "source": [
        "model_3.summary()"
      ],
      "metadata": {
        "colab": {
          "base_uri": "https://localhost:8080/"
        },
        "id": "6yIWmIRBOSI5",
        "outputId": "56a02a8d-e4c6-4e16-b460-2faea1c65c43"
      },
      "execution_count": 79,
      "outputs": [
        {
          "output_type": "stream",
          "name": "stdout",
          "text": [
            "Model: \"Conv1D_char_embedding\"\n",
            "_________________________________________________________________\n",
            " Layer (type)                Output Shape              Param #   \n",
            "=================================================================\n",
            " input_3 (InputLayer)        [(None, 1)]               0         \n",
            "                                                                 \n",
            " char_vectorizer (TextVector  (None, 290)              0         \n",
            " ization)                                                        \n",
            "                                                                 \n",
            " char_embed (Embedding)      (None, 290, 25)           1425      \n",
            "                                                                 \n",
            " conv1d_1 (Conv1D)           (None, 290, 64)           8064      \n",
            "                                                                 \n",
            " global_max_pooling1d (Globa  (None, 64)               0         \n",
            " lMaxPooling1D)                                                  \n",
            "                                                                 \n",
            " dense_3 (Dense)             (None, 5)                 325       \n",
            "                                                                 \n",
            "=================================================================\n",
            "Total params: 9,814\n",
            "Trainable params: 9,814\n",
            "Non-trainable params: 0\n",
            "_________________________________________________________________\n"
          ]
        }
      ]
    },
    {
      "cell_type": "code",
      "source": [
        "# create tensorflow datasets in prefetch batches\n",
        "train_char_dataset = tf.data.Dataset.from_tensor_slices((train_char, train_label_one_hot)).batch(32).prefetch(tf.data.AUTOTUNE)\n",
        "val_char_dataset = tf.data.Dataset.from_tensor_slices((val_char, val_label_one_hot)).batch(32).prefetch(tf.data.AUTOTUNE)\n",
        "\n",
        "train_char_dataset"
      ],
      "metadata": {
        "colab": {
          "base_uri": "https://localhost:8080/"
        },
        "id": "zjKzcIN1OTmM",
        "outputId": "d0989956-455d-4a2b-971e-6908fac025f1"
      },
      "execution_count": 80,
      "outputs": [
        {
          "output_type": "execute_result",
          "data": {
            "text/plain": [
              "<PrefetchDataset element_spec=(TensorSpec(shape=(None,), dtype=tf.string, name=None), TensorSpec(shape=(None, 5), dtype=tf.float64, name=None))>"
            ]
          },
          "metadata": {},
          "execution_count": 80
        }
      ]
    },
    {
      "cell_type": "code",
      "source": [
        "model_3_history = model_3.fit(train_char_dataset, \n",
        "                              steps_per_epoch=int(0.1*len(train_char_dataset)), \n",
        "                              epochs=3,\n",
        "                              validation_data=val_char_dataset, \n",
        "                              validation_steps=int(0.1*len(val_char_dataset)))"
      ],
      "metadata": {
        "colab": {
          "base_uri": "https://localhost:8080/"
        },
        "id": "GI7SA_jPO8wh",
        "outputId": "d55dda6f-2494-42ab-89a7-934284a21f68"
      },
      "execution_count": 81,
      "outputs": [
        {
          "output_type": "stream",
          "name": "stdout",
          "text": [
            "Epoch 1/3\n",
            "562/562 [==============================] - 7s 10ms/step - loss: 1.1714 - accuracy: 0.5384 - val_loss: 0.9519 - val_accuracy: 0.6356\n",
            "Epoch 2/3\n",
            "562/562 [==============================] - 5s 9ms/step - loss: 0.9035 - accuracy: 0.6418 - val_loss: 0.8438 - val_accuracy: 0.6795\n",
            "Epoch 3/3\n",
            "562/562 [==============================] - 5s 9ms/step - loss: 0.8263 - accuracy: 0.6759 - val_loss: 0.7766 - val_accuracy: 0.7104\n"
          ]
        }
      ]
    },
    {
      "cell_type": "code",
      "source": [
        "# evaluate on full validation dataset\n",
        "model_3.evaluate(val_char_dataset)"
      ],
      "metadata": {
        "colab": {
          "base_uri": "https://localhost:8080/"
        },
        "id": "WOkMKcKPPmO6",
        "outputId": "410eabc5-7a66-474e-eb68-3c80d6207ddb"
      },
      "execution_count": 82,
      "outputs": [
        {
          "output_type": "stream",
          "name": "stdout",
          "text": [
            "945/945 [==============================] - 4s 5ms/step - loss: 0.7907 - accuracy: 0.6942\n"
          ]
        },
        {
          "output_type": "execute_result",
          "data": {
            "text/plain": [
              "[0.7906517386436462, 0.6941943764686584]"
            ]
          },
          "metadata": {},
          "execution_count": 82
        }
      ]
    },
    {
      "cell_type": "code",
      "source": [
        "# prediction probablities of each class label\n",
        "model_3_pred_probs = model_3.predict(val_char_dataset)\n",
        "model_3_pred_probs"
      ],
      "metadata": {
        "colab": {
          "base_uri": "https://localhost:8080/"
        },
        "id": "RbDZfFXrPpk5",
        "outputId": "6ddefe3b-b44e-4f57-a66e-fd65be10fd3d"
      },
      "execution_count": 83,
      "outputs": [
        {
          "output_type": "execute_result",
          "data": {
            "text/plain": [
              "array([[0.1830931 , 0.5358389 , 0.04362286, 0.21833019, 0.01911491],\n",
              "       [0.16714428, 0.55654734, 0.04407925, 0.13993548, 0.09229366],\n",
              "       [0.114168  , 0.47402087, 0.10482121, 0.2363408 , 0.07064911],\n",
              "       ...,\n",
              "       [0.00441056, 0.0050773 , 0.0452645 , 0.00520475, 0.94004285],\n",
              "       [0.01559152, 0.09421592, 0.18314663, 0.01262393, 0.694422  ],\n",
              "       [0.5380975 , 0.2217786 , 0.10484037, 0.11621456, 0.01906895]],\n",
              "      dtype=float32)"
            ]
          },
          "metadata": {},
          "execution_count": 83
        }
      ]
    },
    {
      "cell_type": "code",
      "source": [
        "# convert to prediction of each class label \n",
        "model_3_preds = tf.argmax(model_3_pred_probs, axis=1)\n",
        "model_3_preds"
      ],
      "metadata": {
        "colab": {
          "base_uri": "https://localhost:8080/"
        },
        "id": "-1jUSPOuPvut",
        "outputId": "b91de8ce-b7a2-4055-e6dc-e82a29578eda"
      },
      "execution_count": 84,
      "outputs": [
        {
          "output_type": "execute_result",
          "data": {
            "text/plain": [
              "<tf.Tensor: shape=(30212,), dtype=int64, numpy=array([1, 1, 1, ..., 4, 4, 0])>"
            ]
          },
          "metadata": {},
          "execution_count": 84
        }
      ]
    },
    {
      "cell_type": "code",
      "source": [
        "# model_3 results\n",
        "model_3_result = score(val_label_encode, model_3_preds)\n",
        "model_3_result"
      ],
      "metadata": {
        "colab": {
          "base_uri": "https://localhost:8080/"
        },
        "id": "fNVarj2iP1D0",
        "outputId": "64ab276e-3fa8-4a36-9668-1983f3baa82c"
      },
      "execution_count": 85,
      "outputs": [
        {
          "output_type": "execute_result",
          "data": {
            "text/plain": [
              "{'accuracy': 0.6941943598570105,\n",
              " 'f1': 0.6832451590745561,\n",
              " 'precision': 0.6926593215377223,\n",
              " 'recall': 0.6941943598570105}"
            ]
          },
          "metadata": {},
          "execution_count": 85
        }
      ]
    },
    {
      "cell_type": "markdown",
      "source": [
        "# Model_4 Token + Character Embedding"
      ],
      "metadata": {
        "id": "nLHyuaSRtelr"
      }
    },
    {
      "cell_type": "code",
      "source": [
        "# token inputs\n",
        "token_inputs = layers.Input(shape=[], dtype=tf.string, name=\"token_inputs\")\n",
        "token_embeddings = tf_hub_embedding_layer(token_inputs) \n",
        "token_outputs = layers.Dense(128, activation=\"relu\")(token_embeddings)\n",
        "token_model = tf.keras.Model(token_inputs, token_outputs)\n",
        "\n",
        "# character inputs\n",
        "char_inputs = layers.Input(shape=(1,), dtype=tf.string, name=\"char_inputs\")\n",
        "char_vectors = char_vectorizer(char_inputs)\n",
        "char_embeddings = char_embed(char_vectors)\n",
        "char_bi_lstm = layers.Bidirectional(layers.LSTM(25))(char_embeddings)\n",
        "char_model = tf.keras.Model(char_inputs, char_bi_lstm)\n",
        "\n",
        "# concatenate token and character inputs \n",
        "token_char_concat = layers.Concatenate(name=\"token_char_concat\")([token_model.output, char_model.output])\n",
        "\n",
        "# dropout layers\n",
        "combined_dropout = layers.Dropout(0.5)(token_char_concat)\n",
        "combined_dense = layers.Dense(200, activation=\"relu\")(combined_dropout)\n",
        "final_dropout = layers.Dropout(0.5)(combined_dense)\n",
        "output_layer = layers.Dense(5, activation=\"softmax\")(final_dropout)\n",
        "\n",
        "model_4 = tf.keras.Model([token_model.input, char_model.input], output_layer, name=\"Token_char_embedding\")\n",
        "\n",
        "model_4.compile(loss=\"categorical_crossentropy\", \n",
        "                optimizer=tf.keras.optimizers.Adam(),\n",
        "                metrics=[\"accuracy\"])"
      ],
      "metadata": {
        "id": "VUHOVzSdP7Za"
      },
      "execution_count": 86,
      "outputs": []
    },
    {
      "cell_type": "code",
      "source": [
        "model_4.summary()"
      ],
      "metadata": {
        "colab": {
          "base_uri": "https://localhost:8080/"
        },
        "id": "Cxk_dBzl5K_k",
        "outputId": "1500a07b-06db-49ac-bb2f-e874f9151e61"
      },
      "execution_count": 87,
      "outputs": [
        {
          "output_type": "stream",
          "name": "stdout",
          "text": [
            "Model: \"Token_char_embedding\"\n",
            "__________________________________________________________________________________________________\n",
            " Layer (type)                   Output Shape         Param #     Connected to                     \n",
            "==================================================================================================\n",
            " char_inputs (InputLayer)       [(None, 1)]          0           []                               \n",
            "                                                                                                  \n",
            " token_inputs (InputLayer)      [(None,)]            0           []                               \n",
            "                                                                                                  \n",
            " char_vectorizer (TextVectoriza  (None, 290)         0           ['char_inputs[0][0]']            \n",
            " tion)                                                                                            \n",
            "                                                                                                  \n",
            " universal_sentence_encoder (Ke  (None, 512)         256797824   ['token_inputs[0][0]']           \n",
            " rasLayer)                                                                                        \n",
            "                                                                                                  \n",
            " char_embed (Embedding)         (None, 290, 25)      1425        ['char_vectorizer[1][0]']        \n",
            "                                                                                                  \n",
            " dense_4 (Dense)                (None, 128)          65664       ['universal_sentence_encoder[1][0\n",
            "                                                                 ]']                              \n",
            "                                                                                                  \n",
            " bidirectional (Bidirectional)  (None, 50)           10200       ['char_embed[1][0]']             \n",
            "                                                                                                  \n",
            " token_char_concat (Concatenate  (None, 178)         0           ['dense_4[0][0]',                \n",
            " )                                                                'bidirectional[0][0]']          \n",
            "                                                                                                  \n",
            " dropout (Dropout)              (None, 178)          0           ['token_char_concat[0][0]']      \n",
            "                                                                                                  \n",
            " dense_5 (Dense)                (None, 200)          35800       ['dropout[0][0]']                \n",
            "                                                                                                  \n",
            " dropout_1 (Dropout)            (None, 200)          0           ['dense_5[0][0]']                \n",
            "                                                                                                  \n",
            " dense_6 (Dense)                (None, 5)            1005        ['dropout_1[0][0]']              \n",
            "                                                                                                  \n",
            "==================================================================================================\n",
            "Total params: 256,911,918\n",
            "Trainable params: 114,094\n",
            "Non-trainable params: 256,797,824\n",
            "__________________________________________________________________________________________________\n"
          ]
        }
      ]
    },
    {
      "cell_type": "code",
      "source": [
        "# create prefetched batches\n",
        "train_token_char_data = tf.data.Dataset.from_tensor_slices((train_lines, train_char))\n",
        "train_token_char_labels = tf.data.Dataset.from_tensor_slices(train_label_one_hot) \n",
        "train_token_char_dataset = tf.data.Dataset.zip((train_token_char_data, train_token_char_labels)) # combine token and character data\n",
        "train_token_char_dataset = train_token_char_dataset.batch(32).prefetch(tf.data.AUTOTUNE)\n",
        "\n",
        "val_token_char_data = tf.data.Dataset.from_tensor_slices((val_lines, val_char))\n",
        "val_token_char_labels = tf.data.Dataset.from_tensor_slices(val_label_one_hot)\n",
        "val_token_char_dataset = tf.data.Dataset.zip((val_token_char_data, val_token_char_labels)) # combine token and character data\n",
        "val_token_char_dataset = val_token_char_dataset.batch(32).prefetch(tf.data.AUTOTUNE)\n",
        "\n",
        "train_token_char_dataset"
      ],
      "metadata": {
        "colab": {
          "base_uri": "https://localhost:8080/"
        },
        "id": "x1chL20I6_x5",
        "outputId": "857be0d6-a2b4-44a0-fbd6-df8520c7edb3"
      },
      "execution_count": 88,
      "outputs": [
        {
          "output_type": "execute_result",
          "data": {
            "text/plain": [
              "<PrefetchDataset element_spec=((TensorSpec(shape=(None,), dtype=tf.string, name=None), TensorSpec(shape=(None,), dtype=tf.string, name=None)), TensorSpec(shape=(None, 5), dtype=tf.float64, name=None))>"
            ]
          },
          "metadata": {},
          "execution_count": 88
        }
      ]
    },
    {
      "cell_type": "code",
      "source": [
        "model_4_history = model_4.fit(train_token_char_dataset, \n",
        "                              steps_per_epoch=int(0.1*len(train_token_char_dataset)), \n",
        "                              epochs=3, \n",
        "                              validation_data=val_token_char_dataset, \n",
        "                              validation_steps=int(0.1*len(val_token_char_dataset)))"
      ],
      "metadata": {
        "colab": {
          "base_uri": "https://localhost:8080/"
        },
        "id": "bBZJ3VAc-Qew",
        "outputId": "7d287d30-7d08-407e-b12a-b1aa04ae874b"
      },
      "execution_count": 89,
      "outputs": [
        {
          "output_type": "stream",
          "name": "stdout",
          "text": [
            "Epoch 1/3\n",
            "562/562 [==============================] - 74s 118ms/step - loss: 0.9631 - accuracy: 0.6176 - val_loss: 0.7880 - val_accuracy: 0.6998\n",
            "Epoch 2/3\n",
            "562/562 [==============================] - 65s 115ms/step - loss: 0.7949 - accuracy: 0.6935 - val_loss: 0.7198 - val_accuracy: 0.7254\n",
            "Epoch 3/3\n",
            "562/562 [==============================] - 65s 115ms/step - loss: 0.7753 - accuracy: 0.7010 - val_loss: 0.6962 - val_accuracy: 0.7387\n"
          ]
        }
      ]
    },
    {
      "cell_type": "code",
      "source": [
        "# evaluate on full validation data\n",
        "model_4.evaluate(val_token_char_dataset)"
      ],
      "metadata": {
        "colab": {
          "base_uri": "https://localhost:8080/"
        },
        "id": "LQMy8yh1EI12",
        "outputId": "92e7cf69-a334-4dfb-8105-9f06600569a7"
      },
      "execution_count": 90,
      "outputs": [
        {
          "output_type": "stream",
          "name": "stdout",
          "text": [
            "945/945 [==============================] - 47s 50ms/step - loss: 0.6959 - accuracy: 0.7356\n"
          ]
        },
        {
          "output_type": "execute_result",
          "data": {
            "text/plain": [
              "[0.6959120035171509, 0.7356348633766174]"
            ]
          },
          "metadata": {},
          "execution_count": 90
        }
      ]
    },
    {
      "cell_type": "code",
      "source": [
        "# prediction probablitlies of each class label \n",
        "model_4_pred_probs = model_4.predict(val_token_char_dataset)\n",
        "model_4_pred_probs"
      ],
      "metadata": {
        "colab": {
          "base_uri": "https://localhost:8080/"
        },
        "id": "TxZhcAaC-qLi",
        "outputId": "e6b80ac6-4c74-409d-ab61-8e980805c2be"
      },
      "execution_count": 91,
      "outputs": [
        {
          "output_type": "execute_result",
          "data": {
            "text/plain": [
              "array([[3.55880886e-01, 4.23071355e-01, 4.27442184e-03, 2.07002193e-01,\n",
              "        9.77105461e-03],\n",
              "       [2.73606956e-01, 5.94201684e-01, 2.19568610e-03, 1.28102198e-01,\n",
              "        1.89346063e-03],\n",
              "       [2.55411148e-01, 1.18250325e-01, 4.65661399e-02, 5.55436909e-01,\n",
              "        2.43354701e-02],\n",
              "       ...,\n",
              "       [9.13243217e-04, 2.68997787e-03, 6.21650331e-02, 1.09571105e-04,\n",
              "        9.34122205e-01],\n",
              "       [4.88446001e-03, 1.43605536e-02, 1.47636771e-01, 8.11302802e-04,\n",
              "        8.32306981e-01],\n",
              "       [3.10436606e-01, 3.96501213e-01, 2.18342885e-01, 3.66991237e-02,\n",
              "        3.80201787e-02]], dtype=float32)"
            ]
          },
          "metadata": {},
          "execution_count": 91
        }
      ]
    },
    {
      "cell_type": "code",
      "source": [
        "# convert to prediction of each class label\n",
        "model_4_preds = tf.argmax(model_4_pred_probs, axis=1)\n",
        "model_4_preds"
      ],
      "metadata": {
        "colab": {
          "base_uri": "https://localhost:8080/"
        },
        "id": "de3RBgm7EQZj",
        "outputId": "669023ab-ae5c-4d49-ccde-7bc9d23ee649"
      },
      "execution_count": 92,
      "outputs": [
        {
          "output_type": "execute_result",
          "data": {
            "text/plain": [
              "<tf.Tensor: shape=(30212,), dtype=int64, numpy=array([1, 1, 3, ..., 4, 4, 1])>"
            ]
          },
          "metadata": {},
          "execution_count": 92
        }
      ]
    },
    {
      "cell_type": "code",
      "source": [
        "# model_4 results\n",
        "model_4_result = score(val_label_encode, model_4_preds)\n",
        "model_4_result"
      ],
      "metadata": {
        "colab": {
          "base_uri": "https://localhost:8080/"
        },
        "id": "nEZ6eTAaEXDL",
        "outputId": "9fc1a2c0-aca2-46f2-e52c-43e99278b741"
      },
      "execution_count": 93,
      "outputs": [
        {
          "output_type": "execute_result",
          "data": {
            "text/plain": [
              "{'accuracy': 0.7356348470806302,\n",
              " 'f1': 0.7331936183768214,\n",
              " 'precision': 0.7393104971002874,\n",
              " 'recall': 0.7356348470806302}"
            ]
          },
          "metadata": {},
          "execution_count": 93
        }
      ]
    },
    {
      "cell_type": "markdown",
      "source": [
        "# Model_5 Token + Character + Positional Embedding"
      ],
      "metadata": {
        "id": "aYPAxtlKuRyT"
      }
    },
    {
      "cell_type": "code",
      "source": [
        "train_df.head(10)"
      ],
      "metadata": {
        "colab": {
          "base_uri": "https://localhost:8080/",
          "height": 363
        },
        "id": "x9lPRkBzFEx1",
        "outputId": "a4cd4329-82d1-46a8-e98d-19e198248518"
      },
      "execution_count": 94,
      "outputs": [
        {
          "output_type": "execute_result",
          "data": {
            "text/plain": [
              "       label                                               line  index  \\\n",
              "0  OBJECTIVE  to investigate the efficacy of @ weeks of dail...      0   \n",
              "1    METHODS  a total of @ patients with primary knee oa wer...      1   \n",
              "2    METHODS  outcome measures included pain reduction and i...      2   \n",
              "3    METHODS  pain was assessed using the visual analog pain...      3   \n",
              "4    METHODS  secondary outcome measures included the wester...      4   \n",
              "5    METHODS  serum levels of interleukin @ ( il-@ ) , il-@ ...      5   \n",
              "6    RESULTS  there was a clinically relevant reduction in t...      6   \n",
              "7    RESULTS  the mean difference between treatment arms ( @...      7   \n",
              "8    RESULTS  further , there was a clinically relevant redu...      8   \n",
              "9    RESULTS  these differences remained significant at @ we...      9   \n",
              "\n",
              "   total_lines_in_abstract  \n",
              "0                       11  \n",
              "1                       11  \n",
              "2                       11  \n",
              "3                       11  \n",
              "4                       11  \n",
              "5                       11  \n",
              "6                       11  \n",
              "7                       11  \n",
              "8                       11  \n",
              "9                       11  "
            ],
            "text/html": [
              "\n",
              "  <div id=\"df-7ae1f530-bc9d-44dd-bf99-24da7a23c0ca\">\n",
              "    <div class=\"colab-df-container\">\n",
              "      <div>\n",
              "<style scoped>\n",
              "    .dataframe tbody tr th:only-of-type {\n",
              "        vertical-align: middle;\n",
              "    }\n",
              "\n",
              "    .dataframe tbody tr th {\n",
              "        vertical-align: top;\n",
              "    }\n",
              "\n",
              "    .dataframe thead th {\n",
              "        text-align: right;\n",
              "    }\n",
              "</style>\n",
              "<table border=\"1\" class=\"dataframe\">\n",
              "  <thead>\n",
              "    <tr style=\"text-align: right;\">\n",
              "      <th></th>\n",
              "      <th>label</th>\n",
              "      <th>line</th>\n",
              "      <th>index</th>\n",
              "      <th>total_lines_in_abstract</th>\n",
              "    </tr>\n",
              "  </thead>\n",
              "  <tbody>\n",
              "    <tr>\n",
              "      <th>0</th>\n",
              "      <td>OBJECTIVE</td>\n",
              "      <td>to investigate the efficacy of @ weeks of dail...</td>\n",
              "      <td>0</td>\n",
              "      <td>11</td>\n",
              "    </tr>\n",
              "    <tr>\n",
              "      <th>1</th>\n",
              "      <td>METHODS</td>\n",
              "      <td>a total of @ patients with primary knee oa wer...</td>\n",
              "      <td>1</td>\n",
              "      <td>11</td>\n",
              "    </tr>\n",
              "    <tr>\n",
              "      <th>2</th>\n",
              "      <td>METHODS</td>\n",
              "      <td>outcome measures included pain reduction and i...</td>\n",
              "      <td>2</td>\n",
              "      <td>11</td>\n",
              "    </tr>\n",
              "    <tr>\n",
              "      <th>3</th>\n",
              "      <td>METHODS</td>\n",
              "      <td>pain was assessed using the visual analog pain...</td>\n",
              "      <td>3</td>\n",
              "      <td>11</td>\n",
              "    </tr>\n",
              "    <tr>\n",
              "      <th>4</th>\n",
              "      <td>METHODS</td>\n",
              "      <td>secondary outcome measures included the wester...</td>\n",
              "      <td>4</td>\n",
              "      <td>11</td>\n",
              "    </tr>\n",
              "    <tr>\n",
              "      <th>5</th>\n",
              "      <td>METHODS</td>\n",
              "      <td>serum levels of interleukin @ ( il-@ ) , il-@ ...</td>\n",
              "      <td>5</td>\n",
              "      <td>11</td>\n",
              "    </tr>\n",
              "    <tr>\n",
              "      <th>6</th>\n",
              "      <td>RESULTS</td>\n",
              "      <td>there was a clinically relevant reduction in t...</td>\n",
              "      <td>6</td>\n",
              "      <td>11</td>\n",
              "    </tr>\n",
              "    <tr>\n",
              "      <th>7</th>\n",
              "      <td>RESULTS</td>\n",
              "      <td>the mean difference between treatment arms ( @...</td>\n",
              "      <td>7</td>\n",
              "      <td>11</td>\n",
              "    </tr>\n",
              "    <tr>\n",
              "      <th>8</th>\n",
              "      <td>RESULTS</td>\n",
              "      <td>further , there was a clinically relevant redu...</td>\n",
              "      <td>8</td>\n",
              "      <td>11</td>\n",
              "    </tr>\n",
              "    <tr>\n",
              "      <th>9</th>\n",
              "      <td>RESULTS</td>\n",
              "      <td>these differences remained significant at @ we...</td>\n",
              "      <td>9</td>\n",
              "      <td>11</td>\n",
              "    </tr>\n",
              "  </tbody>\n",
              "</table>\n",
              "</div>\n",
              "      <button class=\"colab-df-convert\" onclick=\"convertToInteractive('df-7ae1f530-bc9d-44dd-bf99-24da7a23c0ca')\"\n",
              "              title=\"Convert this dataframe to an interactive table.\"\n",
              "              style=\"display:none;\">\n",
              "        \n",
              "  <svg xmlns=\"http://www.w3.org/2000/svg\" height=\"24px\"viewBox=\"0 0 24 24\"\n",
              "       width=\"24px\">\n",
              "    <path d=\"M0 0h24v24H0V0z\" fill=\"none\"/>\n",
              "    <path d=\"M18.56 5.44l.94 2.06.94-2.06 2.06-.94-2.06-.94-.94-2.06-.94 2.06-2.06.94zm-11 1L8.5 8.5l.94-2.06 2.06-.94-2.06-.94L8.5 2.5l-.94 2.06-2.06.94zm10 10l.94 2.06.94-2.06 2.06-.94-2.06-.94-.94-2.06-.94 2.06-2.06.94z\"/><path d=\"M17.41 7.96l-1.37-1.37c-.4-.4-.92-.59-1.43-.59-.52 0-1.04.2-1.43.59L10.3 9.45l-7.72 7.72c-.78.78-.78 2.05 0 2.83L4 21.41c.39.39.9.59 1.41.59.51 0 1.02-.2 1.41-.59l7.78-7.78 2.81-2.81c.8-.78.8-2.07 0-2.86zM5.41 20L4 18.59l7.72-7.72 1.47 1.35L5.41 20z\"/>\n",
              "  </svg>\n",
              "      </button>\n",
              "      \n",
              "  <style>\n",
              "    .colab-df-container {\n",
              "      display:flex;\n",
              "      flex-wrap:wrap;\n",
              "      gap: 12px;\n",
              "    }\n",
              "\n",
              "    .colab-df-convert {\n",
              "      background-color: #E8F0FE;\n",
              "      border: none;\n",
              "      border-radius: 50%;\n",
              "      cursor: pointer;\n",
              "      display: none;\n",
              "      fill: #1967D2;\n",
              "      height: 32px;\n",
              "      padding: 0 0 0 0;\n",
              "      width: 32px;\n",
              "    }\n",
              "\n",
              "    .colab-df-convert:hover {\n",
              "      background-color: #E2EBFA;\n",
              "      box-shadow: 0px 1px 2px rgba(60, 64, 67, 0.3), 0px 1px 3px 1px rgba(60, 64, 67, 0.15);\n",
              "      fill: #174EA6;\n",
              "    }\n",
              "\n",
              "    [theme=dark] .colab-df-convert {\n",
              "      background-color: #3B4455;\n",
              "      fill: #D2E3FC;\n",
              "    }\n",
              "\n",
              "    [theme=dark] .colab-df-convert:hover {\n",
              "      background-color: #434B5C;\n",
              "      box-shadow: 0px 1px 3px 1px rgba(0, 0, 0, 0.15);\n",
              "      filter: drop-shadow(0px 1px 2px rgba(0, 0, 0, 0.3));\n",
              "      fill: #FFFFFF;\n",
              "    }\n",
              "  </style>\n",
              "\n",
              "      <script>\n",
              "        const buttonEl =\n",
              "          document.querySelector('#df-7ae1f530-bc9d-44dd-bf99-24da7a23c0ca button.colab-df-convert');\n",
              "        buttonEl.style.display =\n",
              "          google.colab.kernel.accessAllowed ? 'block' : 'none';\n",
              "\n",
              "        async function convertToInteractive(key) {\n",
              "          const element = document.querySelector('#df-7ae1f530-bc9d-44dd-bf99-24da7a23c0ca');\n",
              "          const dataTable =\n",
              "            await google.colab.kernel.invokeFunction('convertToInteractive',\n",
              "                                                     [key], {});\n",
              "          if (!dataTable) return;\n",
              "\n",
              "          const docLinkHtml = 'Like what you see? Visit the ' +\n",
              "            '<a target=\"_blank\" href=https://colab.research.google.com/notebooks/data_table.ipynb>data table notebook</a>'\n",
              "            + ' to learn more about interactive tables.';\n",
              "          element.innerHTML = '';\n",
              "          dataTable['output_type'] = 'display_data';\n",
              "          await google.colab.output.renderOutput(dataTable, element);\n",
              "          const docLink = document.createElement('div');\n",
              "          docLink.innerHTML = docLinkHtml;\n",
              "          element.appendChild(docLink);\n",
              "        }\n",
              "      </script>\n",
              "    </div>\n",
              "  </div>\n",
              "  "
            ]
          },
          "metadata": {},
          "execution_count": 94
        }
      ]
    },
    {
      "cell_type": "code",
      "source": [
        "# frequency of each index (position of line within abstract)\n",
        "train_df[\"index\"].value_counts()"
      ],
      "metadata": {
        "colab": {
          "base_uri": "https://localhost:8080/"
        },
        "id": "Sgw3bVKNPyHX",
        "outputId": "432495fd-b744-47ec-a263-99594ff3f969"
      },
      "execution_count": 95,
      "outputs": [
        {
          "output_type": "execute_result",
          "data": {
            "text/plain": [
              "0     15000\n",
              "1     15000\n",
              "2     15000\n",
              "3     15000\n",
              "4     14992\n",
              "5     14949\n",
              "6     14758\n",
              "7     14279\n",
              "8     13346\n",
              "9     11981\n",
              "10    10041\n",
              "11     7892\n",
              "12     5853\n",
              "13     4152\n",
              "14     2835\n",
              "15     1861\n",
              "16     1188\n",
              "17      751\n",
              "18      462\n",
              "19      286\n",
              "20      162\n",
              "21      101\n",
              "22       66\n",
              "23       33\n",
              "24       22\n",
              "25       14\n",
              "26        7\n",
              "27        4\n",
              "28        3\n",
              "29        1\n",
              "30        1\n",
              "Name: index, dtype: int64"
            ]
          },
          "metadata": {},
          "execution_count": 95
        }
      ]
    },
    {
      "cell_type": "code",
      "source": [
        "train_df[\"index\"].plot.hist()\n",
        "plt.title(\"Frequency of index numbers\")\n",
        "plt.xlabel(\"Index number\");"
      ],
      "metadata": {
        "colab": {
          "base_uri": "https://localhost:8080/",
          "height": 295
        },
        "id": "4R6rlbazP3sT",
        "outputId": "8c49e248-1fa9-414f-91e7-f16f8e97cd20"
      },
      "execution_count": 96,
      "outputs": [
        {
          "output_type": "display_data",
          "data": {
            "text/plain": [
              "<Figure size 432x288 with 1 Axes>"
            ],
            "image/png": "[encoded data removed]"
          },
          "metadata": {
            "needs_background": "light"
          }
        }
      ]
    },
    {
      "cell_type": "code",
      "source": [
        "# what index covers 95% of all lines\n",
        "np.percentile(train_df[\"index\"], 95)"
      ],
      "metadata": {
        "colab": {
          "base_uri": "https://localhost:8080/"
        },
        "id": "5nCrT6lYRv1i",
        "outputId": "1e23bbbf-2b42-448a-ee09-110ed6aa019d"
      },
      "execution_count": 98,
      "outputs": [
        {
          "output_type": "execute_result",
          "data": {
            "text/plain": [
              "13.0"
            ]
          },
          "metadata": {},
          "execution_count": 98
        }
      ]
    },
    {
      "cell_type": "code",
      "source": [
        "# one hot encode labels\n",
        "train_index_one_hot = tf.one_hot(train_df[\"index\"].to_numpy(), depth=13)\n",
        "val_index_one_hot = tf.one_hot(val_df[\"index\"].to_numpy(), depth=13)\n",
        "test_index_one_hot = tf.one_hot(test_df[\"index\"].to_numpy(), depth=13)\n",
        "\n",
        "train_index_one_hot[:20]"
      ],
      "metadata": {
        "colab": {
          "base_uri": "https://localhost:8080/"
        },
        "id": "PnoJCJqwQKg4",
        "outputId": "f3540410-ebe4-4a5b-db33-6b07c77bbe4d"
      },
      "execution_count": 99,
      "outputs": [
        {
          "output_type": "execute_result",
          "data": {
            "text/plain": [
              "<tf.Tensor: shape=(20, 13), dtype=float32, numpy=\n",
              "array([[1., 0., 0., 0., 0., 0., 0., 0., 0., 0., 0., 0., 0.],\n",
              "       [0., 1., 0., 0., 0., 0., 0., 0., 0., 0., 0., 0., 0.],\n",
              "       [0., 0., 1., 0., 0., 0., 0., 0., 0., 0., 0., 0., 0.],\n",
              "       [0., 0., 0., 1., 0., 0., 0., 0., 0., 0., 0., 0., 0.],\n",
              "       [0., 0., 0., 0., 1., 0., 0., 0., 0., 0., 0., 0., 0.],\n",
              "       [0., 0., 0., 0., 0., 1., 0., 0., 0., 0., 0., 0., 0.],\n",
              "       [0., 0., 0., 0., 0., 0., 1., 0., 0., 0., 0., 0., 0.],\n",
              "       [0., 0., 0., 0., 0., 0., 0., 1., 0., 0., 0., 0., 0.],\n",
              "       [0., 0., 0., 0., 0., 0., 0., 0., 1., 0., 0., 0., 0.],\n",
              "       [0., 0., 0., 0., 0., 0., 0., 0., 0., 1., 0., 0., 0.],\n",
              "       [0., 0., 0., 0., 0., 0., 0., 0., 0., 0., 1., 0., 0.],\n",
              "       [0., 0., 0., 0., 0., 0., 0., 0., 0., 0., 0., 1., 0.],\n",
              "       [1., 0., 0., 0., 0., 0., 0., 0., 0., 0., 0., 0., 0.],\n",
              "       [0., 1., 0., 0., 0., 0., 0., 0., 0., 0., 0., 0., 0.],\n",
              "       [0., 0., 1., 0., 0., 0., 0., 0., 0., 0., 0., 0., 0.],\n",
              "       [0., 0., 0., 1., 0., 0., 0., 0., 0., 0., 0., 0., 0.],\n",
              "       [0., 0., 0., 0., 1., 0., 0., 0., 0., 0., 0., 0., 0.],\n",
              "       [0., 0., 0., 0., 0., 1., 0., 0., 0., 0., 0., 0., 0.],\n",
              "       [0., 0., 0., 0., 0., 0., 1., 0., 0., 0., 0., 0., 0.],\n",
              "       [0., 0., 0., 0., 0., 0., 0., 1., 0., 0., 0., 0., 0.]],\n",
              "      dtype=float32)>"
            ]
          },
          "metadata": {},
          "execution_count": 99
        }
      ]
    },
    {
      "cell_type": "code",
      "source": [
        "# frequency of total length of abstract \n",
        "train_df[\"total_lines_in_abstract\"].value_counts()"
      ],
      "metadata": {
        "colab": {
          "base_uri": "https://localhost:8080/"
        },
        "id": "xeVxbaHyRMMm",
        "outputId": "fa3a7628-acbb-4bf9-85fa-409dfd05d8bc"
      },
      "execution_count": 100,
      "outputs": [
        {
          "output_type": "execute_result",
          "data": {
            "text/plain": [
              "11    24468\n",
              "10    23639\n",
              "12    22113\n",
              "9     19400\n",
              "13    18438\n",
              "14    14610\n",
              "8     12285\n",
              "15    10768\n",
              "7      7464\n",
              "16     7429\n",
              "17     5202\n",
              "6      3353\n",
              "18     3344\n",
              "19     2480\n",
              "20     1281\n",
              "5      1146\n",
              "21      770\n",
              "22      759\n",
              "23      264\n",
              "4       215\n",
              "24      200\n",
              "25      182\n",
              "26       81\n",
              "28       58\n",
              "3        32\n",
              "30       31\n",
              "27       28\n",
              "Name: total_lines_in_abstract, dtype: int64"
            ]
          },
          "metadata": {},
          "execution_count": 100
        }
      ]
    },
    {
      "cell_type": "code",
      "source": [
        "train_df[\"total_lines_in_abstract\"].plot.hist()\n",
        "plt.title(\"Frequency of length of abstract\")\n",
        "plt.xlabel(\"Total lines in abstract\");"
      ],
      "metadata": {
        "colab": {
          "base_uri": "https://localhost:8080/",
          "height": 295
        },
        "id": "viOHgwe1RQ-g",
        "outputId": "93d15765-6086-45ca-a391-cbdde695e09a"
      },
      "execution_count": 101,
      "outputs": [
        {
          "output_type": "display_data",
          "data": {
            "text/plain": [
              "<Figure size 432x288 with 1 Axes>"
            ],
            "image/png": "[encoded data removed]"
          },
          "metadata": {
            "needs_background": "light"
          }
        }
      ]
    },
    {
      "cell_type": "code",
      "source": [
        "# how many lines cover 95% of all abstracts\n",
        "np.percentile(train_df[\"total_lines_in_abstract\"], 95)"
      ],
      "metadata": {
        "colab": {
          "base_uri": "https://localhost:8080/"
        },
        "id": "tHpVevwwRbS7",
        "outputId": "f0fdf627-f011-4031-fccc-46a195df94b5"
      },
      "execution_count": 102,
      "outputs": [
        {
          "output_type": "execute_result",
          "data": {
            "text/plain": [
              "18.0"
            ]
          },
          "metadata": {},
          "execution_count": 102
        }
      ]
    },
    {
      "cell_type": "code",
      "source": [
        "# one hot encode total lines\n",
        "train_total_lines_one_hot = tf.one_hot(train_df[\"total_lines_in_abstract\"].to_numpy(), depth=18)\n",
        "val_total_lines_one_hot = tf.one_hot(val_df[\"total_lines_in_abstract\"].to_numpy(), depth=18)\n",
        "test_total_lines_one_hot = tf.one_hot(test_df[\"total_lines_in_abstract\"].to_numpy(), depth=18)\n",
        "\n",
        "train_total_lines_one_hot"
      ],
      "metadata": {
        "colab": {
          "base_uri": "https://localhost:8080/"
        },
        "id": "BoJPDCwbR4Gx",
        "outputId": "4381e116-c3ed-471b-d1fe-90300b117c8f"
      },
      "execution_count": 103,
      "outputs": [
        {
          "output_type": "execute_result",
          "data": {
            "text/plain": [
              "<tf.Tensor: shape=(180040, 18), dtype=float32, numpy=\n",
              "array([[0., 0., 0., ..., 0., 0., 0.],\n",
              "       [0., 0., 0., ..., 0., 0., 0.],\n",
              "       [0., 0., 0., ..., 0., 0., 0.],\n",
              "       ...,\n",
              "       [0., 0., 0., ..., 0., 0., 0.],\n",
              "       [0., 0., 0., ..., 0., 0., 0.],\n",
              "       [0., 0., 0., ..., 0., 0., 0.]], dtype=float32)>"
            ]
          },
          "metadata": {},
          "execution_count": 103
        }
      ]
    },
    {
      "cell_type": "code",
      "source": [
        "# token inputs\n",
        "token_inputs = layers.Input(shape=[], dtype=\"string\", name=\"token_inputs\")\n",
        "token_embeddings = tf_hub_embedding_layer(token_inputs)\n",
        "token_outputs = layers.Dense(128, activation=\"relu\")(token_embeddings)\n",
        "token_model = tf.keras.Model(token_inputs, token_outputs)\n",
        "\n",
        "# character inputs\n",
        "char_inputs = layers.Input(shape=(1,), dtype=\"string\", name=\"char_inputs\")\n",
        "char_vectors = char_vectorizer(char_inputs)\n",
        "char_embeddings = char_embed(char_vectors)\n",
        "char_bi_lstm = layers.Bidirectional(layers.LSTM(25))(char_embeddings)\n",
        "char_model = tf.keras.Model(char_inputs, char_bi_lstm)\n",
        "\n",
        "# positional inputs\n",
        "index_inputs = layers.Input(shape=(13,), dtype=tf.float32, name=\"index_inputs\")\n",
        "x = layers.Dense(32, activation=\"relu\")(index_inputs)\n",
        "index_model = tf.keras.Model(index_inputs, x)\n",
        "\n",
        "# total lines inputs\n",
        "total_lines_inputs = layers.Input(shape=(18,), dtype=tf.float32, name=\"total_lines_inputs\")\n",
        "y = layers.Dense(32, activation=\"relu\")(total_lines_inputs)\n",
        "total_lines_model = tf.keras.Model(total_lines_inputs, y)\n",
        "\n",
        "# concatenate token and character inputs\n",
        "double_embedding = layers.Concatenate(name=\"token_char_embedding\")([token_model.output, \n",
        "                                                                    char_model.output])\n",
        "\n",
        "z = layers.Dense(256, activation=\"relu\")(double_embedding)\n",
        "z = layers.Dropout(0.5)(z)\n",
        "\n",
        "# concatenate (token and character inputs) and positional inputs\n",
        "triple_embedding = layers.Concatenate(name=\"token_char_position_embedding\")([index_model.output, \n",
        "                                                                             total_lines_model.output, \n",
        "                                                                             z])\n",
        "\n",
        "output_layer = layers.Dense(5, activation=\"softmax\")(triple_embedding)\n",
        "\n",
        "model_5 = tf.keras.Model([index_model.inputs, \n",
        "                          total_lines_model.inputs, \n",
        "                          token_model.inputs, \n",
        "                          char_model.inputs], \n",
        "                          output_layer, \n",
        "                          name=\"token_char_positional_embedding\")\n",
        "\n",
        "model_5.compile(loss=tf.keras.losses.CategoricalCrossentropy(label_smoothing=0.2), \n",
        "                optimizer=tf.keras.optimizers.Adam(), \n",
        "                metrics=[\"accuracy\"])"
      ],
      "metadata": {
        "id": "sDyy6AOgSzfy"
      },
      "execution_count": 104,
      "outputs": []
    },
    {
      "cell_type": "code",
      "source": [
        "model_5.summary()"
      ],
      "metadata": {
        "colab": {
          "base_uri": "https://localhost:8080/"
        },
        "id": "FzWuGO1TrKsO",
        "outputId": "3dcbe120-5f1e-4caf-aac0-5c6026d3c853"
      },
      "execution_count": 105,
      "outputs": [
        {
          "output_type": "stream",
          "name": "stdout",
          "text": [
            "Model: \"token_char_positional_embedding\"\n",
            "__________________________________________________________________________________________________\n",
            " Layer (type)                   Output Shape         Param #     Connected to                     \n",
            "==================================================================================================\n",
            " char_inputs (InputLayer)       [(None, 1)]          0           []                               \n",
            "                                                                                                  \n",
            " token_inputs (InputLayer)      [(None,)]            0           []                               \n",
            "                                                                                                  \n",
            " char_vectorizer (TextVectoriza  (None, 290)         0           ['char_inputs[0][0]']            \n",
            " tion)                                                                                            \n",
            "                                                                                                  \n",
            " universal_sentence_encoder (Ke  (None, 512)         256797824   ['token_inputs[0][0]']           \n",
            " rasLayer)                                                                                        \n",
            "                                                                                                  \n",
            " char_embed (Embedding)         (None, 290, 25)      1425        ['char_vectorizer[2][0]']        \n",
            "                                                                                                  \n",
            " dense_7 (Dense)                (None, 128)          65664       ['universal_sentence_encoder[2][0\n",
            "                                                                 ]']                              \n",
            "                                                                                                  \n",
            " bidirectional_1 (Bidirectional  (None, 50)          10200       ['char_embed[2][0]']             \n",
            " )                                                                                                \n",
            "                                                                                                  \n",
            " token_char_embedding (Concaten  (None, 178)         0           ['dense_7[0][0]',                \n",
            " ate)                                                             'bidirectional_1[0][0]']        \n",
            "                                                                                                  \n",
            " index_inputs (InputLayer)      [(None, 13)]         0           []                               \n",
            "                                                                                                  \n",
            " total_lines_inputs (InputLayer  [(None, 18)]        0           []                               \n",
            " )                                                                                                \n",
            "                                                                                                  \n",
            " dense_10 (Dense)               (None, 256)          45824       ['token_char_embedding[0][0]']   \n",
            "                                                                                                  \n",
            " dense_8 (Dense)                (None, 32)           448         ['index_inputs[0][0]']           \n",
            "                                                                                                  \n",
            " dense_9 (Dense)                (None, 32)           608         ['total_lines_inputs[0][0]']     \n",
            "                                                                                                  \n",
            " dropout_2 (Dropout)            (None, 256)          0           ['dense_10[0][0]']               \n",
            "                                                                                                  \n",
            " token_char_position_embedding   (None, 320)         0           ['dense_8[0][0]',                \n",
            " (Concatenate)                                                    'dense_9[0][0]',                \n",
            "                                                                  'dropout_2[0][0]']              \n",
            "                                                                                                  \n",
            " dense_11 (Dense)               (None, 5)            1605        ['token_char_position_embedding[0\n",
            "                                                                 ][0]']                           \n",
            "                                                                                                  \n",
            "==================================================================================================\n",
            "Total params: 256,923,598\n",
            "Trainable params: 125,774\n",
            "Non-trainable params: 256,797,824\n",
            "__________________________________________________________________________________________________\n"
          ]
        }
      ]
    },
    {
      "cell_type": "code",
      "source": [
        "# create prefetched batches\n",
        "train_token_char_pos_data = tf.data.Dataset.from_tensor_slices((train_index_one_hot,\n",
        "                                                                train_total_lines_one_hot,\n",
        "                                                                train_lines,\n",
        "                                                                train_char))\n",
        "train_token_char_pos_labels = tf.data.Dataset.from_tensor_slices(train_label_one_hot)\n",
        "train_token_char_pos_dataset = tf.data.Dataset.zip((train_token_char_pos_data, train_token_char_pos_labels))\n",
        "train_token_char_pos_dataset = train_token_char_pos_dataset.batch(32).prefetch(tf.data.AUTOTUNE)\n",
        "\n",
        "val_token_char_pos_data = tf.data.Dataset.from_tensor_slices((val_index_one_hot,\n",
        "                                                              val_total_lines_one_hot,\n",
        "                                                              val_lines,\n",
        "                                                              val_char))\n",
        "val_token_char_pos_labels = tf.data.Dataset.from_tensor_slices(val_label_one_hot)\n",
        "val_token_char_pos_dataset = tf.data.Dataset.zip((val_token_char_pos_data, val_token_char_pos_labels))\n",
        "val_token_char_pos_dataset = val_token_char_pos_dataset.batch(32).prefetch(tf.data.AUTOTUNE)\n",
        "\n",
        "train_token_char_pos_dataset"
      ],
      "metadata": {
        "colab": {
          "base_uri": "https://localhost:8080/"
        },
        "id": "yWcvADbArMAs",
        "outputId": "151e30b3-edb8-40db-84b7-fd1d51708bdf"
      },
      "execution_count": 106,
      "outputs": [
        {
          "output_type": "execute_result",
          "data": {
            "text/plain": [
              "<PrefetchDataset element_spec=((TensorSpec(shape=(None, 13), dtype=tf.float32, name=None), TensorSpec(shape=(None, 18), dtype=tf.float32, name=None), TensorSpec(shape=(None,), dtype=tf.string, name=None), TensorSpec(shape=(None,), dtype=tf.string, name=None)), TensorSpec(shape=(None, 5), dtype=tf.float64, name=None))>"
            ]
          },
          "metadata": {},
          "execution_count": 106
        }
      ]
    },
    {
      "cell_type": "code",
      "source": [
        "model_5_history = model_5.fit(train_token_char_pos_dataset, \n",
        "                              steps_per_epoch=int(0.1*len(train_token_char_pos_dataset)),\n",
        "                              epochs=3, \n",
        "                              validation_data=val_token_char_pos_dataset,\n",
        "                              validation_steps=int(0.1*len(val_token_char_pos_dataset)))"
      ],
      "metadata": {
        "colab": {
          "base_uri": "https://localhost:8080/"
        },
        "id": "08TTPKABvlq1",
        "outputId": "5d693acc-43e7-4711-f59a-d7a44e7beb14"
      },
      "execution_count": 107,
      "outputs": [
        {
          "output_type": "stream",
          "name": "stdout",
          "text": [
            "Epoch 1/3\n",
            "562/562 [==============================] - 71s 117ms/step - loss: 1.1012 - accuracy: 0.7231 - val_loss: 0.9843 - val_accuracy: 0.8009\n",
            "Epoch 2/3\n",
            "562/562 [==============================] - 65s 115ms/step - loss: 0.9684 - accuracy: 0.8147 - val_loss: 0.9617 - val_accuracy: 0.8182\n",
            "Epoch 3/3\n",
            "562/562 [==============================] - 65s 115ms/step - loss: 0.9510 - accuracy: 0.8231 - val_loss: 0.9400 - val_accuracy: 0.8305\n"
          ]
        }
      ]
    },
    {
      "cell_type": "code",
      "source": [
        "# evaluate on full validation data\n",
        "model_5.evaluate(val_token_char_pos_dataset)"
      ],
      "metadata": {
        "colab": {
          "base_uri": "https://localhost:8080/"
        },
        "id": "D2h81RTHv_hg",
        "outputId": "693699b7-c785-4446-b467-ec32e63f572e"
      },
      "execution_count": 108,
      "outputs": [
        {
          "output_type": "stream",
          "name": "stdout",
          "text": [
            "945/945 [==============================] - 48s 51ms/step - loss: 0.9341 - accuracy: 0.8350\n"
          ]
        },
        {
          "output_type": "execute_result",
          "data": {
            "text/plain": [
              "[0.9341189861297607, 0.8350324630737305]"
            ]
          },
          "metadata": {},
          "execution_count": 108
        }
      ]
    },
    {
      "cell_type": "code",
      "source": [
        "# prediction probablities of each class label\n",
        "model_5_pred_probs = model_5.predict(val_token_char_pos_dataset)\n",
        "model_5_pred_probs"
      ],
      "metadata": {
        "colab": {
          "base_uri": "https://localhost:8080/"
        },
        "id": "P0A2GCaPwJT0",
        "outputId": "2b165ca8-b8d4-4506-bfa5-9337bc53cdd5"
      },
      "execution_count": 109,
      "outputs": [
        {
          "output_type": "execute_result",
          "data": {
            "text/plain": [
              "array([[0.49940473, 0.09725714, 0.01103465, 0.37110075, 0.02120274],\n",
              "       [0.55691224, 0.1002305 , 0.03619374, 0.2948448 , 0.01181869],\n",
              "       [0.2987765 , 0.11860488, 0.14360268, 0.37765676, 0.06135919],\n",
              "       ...,\n",
              "       [0.02847239, 0.07655907, 0.03583962, 0.02514513, 0.83398384],\n",
              "       [0.02108296, 0.20428333, 0.07270397, 0.0221792 , 0.67975056],\n",
              "       [0.26674917, 0.5071113 , 0.12285414, 0.05676163, 0.04652383]],\n",
              "      dtype=float32)"
            ]
          },
          "metadata": {},
          "execution_count": 109
        }
      ]
    },
    {
      "cell_type": "code",
      "source": [
        "# convert to prediction of each class label\n",
        "model_5_preds = tf.argmax(model_5_pred_probs, axis=1)\n",
        "model_5_preds"
      ],
      "metadata": {
        "colab": {
          "base_uri": "https://localhost:8080/"
        },
        "id": "hyMY-80RwSoT",
        "outputId": "db220897-4949-405e-d4ca-5f063484e27c"
      },
      "execution_count": 110,
      "outputs": [
        {
          "output_type": "execute_result",
          "data": {
            "text/plain": [
              "<tf.Tensor: shape=(30212,), dtype=int64, numpy=array([0, 0, 3, ..., 4, 4, 1])>"
            ]
          },
          "metadata": {},
          "execution_count": 110
        }
      ]
    },
    {
      "cell_type": "code",
      "source": [
        "# model_5 results\n",
        "model_5_result = score(val_label_encode, model_5_preds)\n",
        "model_5_result"
      ],
      "metadata": {
        "colab": {
          "base_uri": "https://localhost:8080/"
        },
        "id": "BsE9SQj_wXCS",
        "outputId": "9d8a33ff-85e9-4448-8bfa-aafb98ce92ab"
      },
      "execution_count": 111,
      "outputs": [
        {
          "output_type": "execute_result",
          "data": {
            "text/plain": [
              "{'accuracy': 0.835032437442076,\n",
              " 'f1': 0.8342459168153824,\n",
              " 'precision': 0.8345200724420917,\n",
              " 'recall': 0.835032437442076}"
            ]
          },
          "metadata": {},
          "execution_count": 111
        }
      ]
    },
    {
      "cell_type": "code",
      "source": [
        "# create dataframe of all results for comparison\n",
        "all_results = pd.DataFrame({\"0 - Baseline\": model_0_result, \n",
        "                            \"1 - Conv1D token embedding\": model_1_result, \n",
        "                            \"2 - Universal Sentence Encoder\" : model_2_result,\n",
        "                            \"3 - Conv1D char embedding\": model_3_result,\n",
        "                            \"4 - Token + Char embedding\": model_4_result,\n",
        "                            \"5 - Token + Char + Pos embedding\": model_5_result})\n",
        "\n",
        "all_results"
      ],
      "metadata": {
        "id": "rV4_Dk29iVVJ",
        "colab": {
          "base_uri": "https://localhost:8080/",
          "height": 236
        },
        "outputId": "8cc819d9-ab73-440f-b6cb-275c5b4347a4"
      },
      "execution_count": 113,
      "outputs": [
        {
          "output_type": "execute_result",
          "data": {
            "text/plain": [
              "           0 - Baseline  1 - Conv1D token embedding  \\\n",
              "accuracy       0.721832                    0.787435   \n",
              "precision      0.718647                    0.783874   \n",
              "recall         0.721832                    0.787435   \n",
              "f1             0.698925                    0.784871   \n",
              "\n",
              "           2 - Universal Sentence Encoder  3 - Conv1D char embedding  \\\n",
              "accuracy                         0.713326                   0.694194   \n",
              "precision                        0.713576                   0.692659   \n",
              "recall                           0.713326                   0.694194   \n",
              "f1                               0.710308                   0.683245   \n",
              "\n",
              "           4 - Token + Char embedding  5 - Token + Char + Pos embedding  \n",
              "accuracy                     0.735635                          0.835032  \n",
              "precision                    0.739310                          0.834520  \n",
              "recall                       0.735635                          0.835032  \n",
              "f1                           0.733194                          0.834246  "
            ],
            "text/html": [
              "\n",
              "  <div id=\"df-1f279187-eece-4589-b6bf-5adfdd7e09f3\">\n",
              "    <div class=\"colab-df-container\">\n",
              "      <div>\n",
              "<style scoped>\n",
              "    .dataframe tbody tr th:only-of-type {\n",
              "        vertical-align: middle;\n",
              "    }\n",
              "\n",
              "    .dataframe tbody tr th {\n",
              "        vertical-align: top;\n",
              "    }\n",
              "\n",
              "    .dataframe thead th {\n",
              "        text-align: right;\n",
              "    }\n",
              "</style>\n",
              "<table border=\"1\" class=\"dataframe\">\n",
              "  <thead>\n",
              "    <tr style=\"text-align: right;\">\n",
              "      <th></th>\n",
              "      <th>0 - Baseline</th>\n",
              "      <th>1 - Conv1D token embedding</th>\n",
              "      <th>2 - Universal Sentence Encoder</th>\n",
              "      <th>3 - Conv1D char embedding</th>\n",
              "      <th>4 - Token + Char embedding</th>\n",
              "      <th>5 - Token + Char + Pos embedding</th>\n",
              "    </tr>\n",
              "  </thead>\n",
              "  <tbody>\n",
              "    <tr>\n",
              "      <th>accuracy</th>\n",
              "      <td>0.721832</td>\n",
              "      <td>0.787435</td>\n",
              "      <td>0.713326</td>\n",
              "      <td>0.694194</td>\n",
              "      <td>0.735635</td>\n",
              "      <td>0.835032</td>\n",
              "    </tr>\n",
              "    <tr>\n",
              "      <th>precision</th>\n",
              "      <td>0.718647</td>\n",
              "      <td>0.783874</td>\n",
              "      <td>0.713576</td>\n",
              "      <td>0.692659</td>\n",
              "      <td>0.739310</td>\n",
              "      <td>0.834520</td>\n",
              "    </tr>\n",
              "    <tr>\n",
              "      <th>recall</th>\n",
              "      <td>0.721832</td>\n",
              "      <td>0.787435</td>\n",
              "      <td>0.713326</td>\n",
              "      <td>0.694194</td>\n",
              "      <td>0.735635</td>\n",
              "      <td>0.835032</td>\n",
              "    </tr>\n",
              "    <tr>\n",
              "      <th>f1</th>\n",
              "      <td>0.698925</td>\n",
              "      <td>0.784871</td>\n",
              "      <td>0.710308</td>\n",
              "      <td>0.683245</td>\n",
              "      <td>0.733194</td>\n",
              "      <td>0.834246</td>\n",
              "    </tr>\n",
              "  </tbody>\n",
              "</table>\n",
              "</div>\n",
              "      <button class=\"colab-df-convert\" onclick=\"convertToInteractive('df-1f279187-eece-4589-b6bf-5adfdd7e09f3')\"\n",
              "              title=\"Convert this dataframe to an interactive table.\"\n",
              "              style=\"display:none;\">\n",
              "        \n",
              "  <svg xmlns=\"http://www.w3.org/2000/svg\" height=\"24px\"viewBox=\"0 0 24 24\"\n",
              "       width=\"24px\">\n",
              "    <path d=\"M0 0h24v24H0V0z\" fill=\"none\"/>\n",
              "    <path d=\"M18.56 5.44l.94 2.06.94-2.06 2.06-.94-2.06-.94-.94-2.06-.94 2.06-2.06.94zm-11 1L8.5 8.5l.94-2.06 2.06-.94-2.06-.94L8.5 2.5l-.94 2.06-2.06.94zm10 10l.94 2.06.94-2.06 2.06-.94-2.06-.94-.94-2.06-.94 2.06-2.06.94z\"/><path d=\"M17.41 7.96l-1.37-1.37c-.4-.4-.92-.59-1.43-.59-.52 0-1.04.2-1.43.59L10.3 9.45l-7.72 7.72c-.78.78-.78 2.05 0 2.83L4 21.41c.39.39.9.59 1.41.59.51 0 1.02-.2 1.41-.59l7.78-7.78 2.81-2.81c.8-.78.8-2.07 0-2.86zM5.41 20L4 18.59l7.72-7.72 1.47 1.35L5.41 20z\"/>\n",
              "  </svg>\n",
              "      </button>\n",
              "      \n",
              "  <style>\n",
              "    .colab-df-container {\n",
              "      display:flex;\n",
              "      flex-wrap:wrap;\n",
              "      gap: 12px;\n",
              "    }\n",
              "\n",
              "    .colab-df-convert {\n",
              "      background-color: #E8F0FE;\n",
              "      border: none;\n",
              "      border-radius: 50%;\n",
              "      cursor: pointer;\n",
              "      display: none;\n",
              "      fill: #1967D2;\n",
              "      height: 32px;\n",
              "      padding: 0 0 0 0;\n",
              "      width: 32px;\n",
              "    }\n",
              "\n",
              "    .colab-df-convert:hover {\n",
              "      background-color: #E2EBFA;\n",
              "      box-shadow: 0px 1px 2px rgba(60, 64, 67, 0.3), 0px 1px 3px 1px rgba(60, 64, 67, 0.15);\n",
              "      fill: #174EA6;\n",
              "    }\n",
              "\n",
              "    [theme=dark] .colab-df-convert {\n",
              "      background-color: #3B4455;\n",
              "      fill: #D2E3FC;\n",
              "    }\n",
              "\n",
              "    [theme=dark] .colab-df-convert:hover {\n",
              "      background-color: #434B5C;\n",
              "      box-shadow: 0px 1px 3px 1px rgba(0, 0, 0, 0.15);\n",
              "      filter: drop-shadow(0px 1px 2px rgba(0, 0, 0, 0.3));\n",
              "      fill: #FFFFFF;\n",
              "    }\n",
              "  </style>\n",
              "\n",
              "      <script>\n",
              "        const buttonEl =\n",
              "          document.querySelector('#df-1f279187-eece-4589-b6bf-5adfdd7e09f3 button.colab-df-convert');\n",
              "        buttonEl.style.display =\n",
              "          google.colab.kernel.accessAllowed ? 'block' : 'none';\n",
              "\n",
              "        async function convertToInteractive(key) {\n",
              "          const element = document.querySelector('#df-1f279187-eece-4589-b6bf-5adfdd7e09f3');\n",
              "          const dataTable =\n",
              "            await google.colab.kernel.invokeFunction('convertToInteractive',\n",
              "                                                     [key], {});\n",
              "          if (!dataTable) return;\n",
              "\n",
              "          const docLinkHtml = 'Like what you see? Visit the ' +\n",
              "            '<a target=\"_blank\" href=https://colab.research.google.com/notebooks/data_table.ipynb>data table notebook</a>'\n",
              "            + ' to learn more about interactive tables.';\n",
              "          element.innerHTML = '';\n",
              "          dataTable['output_type'] = 'display_data';\n",
              "          await google.colab.output.renderOutput(dataTable, element);\n",
              "          const docLink = document.createElement('div');\n",
              "          docLink.innerHTML = docLinkHtml;\n",
              "          element.appendChild(docLink);\n",
              "        }\n",
              "      </script>\n",
              "    </div>\n",
              "  </div>\n",
              "  "
            ]
          },
          "metadata": {},
          "execution_count": 113
        }
      ]
    },
    {
      "cell_type": "markdown",
      "source": [
        "# Evaluate test dataset on best performing model"
      ],
      "metadata": {
        "id": "42z_566GwFo3"
      }
    },
    {
      "cell_type": "code",
      "source": [
        "# create test prefetched batches \n",
        "test_token_char_pos_data = tf.data.Dataset.from_tensor_slices((test_index_one_hot, \n",
        "                                                               test_total_lines_one_hot,\n",
        "                                                               test_lines,\n",
        "                                                               test_char))\n",
        "test_token_char_pos_labels = tf.data.Dataset.from_tensor_slices(test_label_one_hot)\n",
        "test_token_char_pos_dataset = tf.data.Dataset.zip((test_token_char_pos_data, test_token_char_pos_labels))\n",
        "test_token_char_pos_dataset = test_token_char_pos_dataset.batch(32).prefetch(tf.data.AUTOTUNE)\n",
        "\n",
        "test_token_char_pos_dataset"
      ],
      "metadata": {
        "id": "1su0LhUmjNNY",
        "colab": {
          "base_uri": "https://localhost:8080/"
        },
        "outputId": "c6255e88-3bfa-405f-c4a2-d8be096d37a8"
      },
      "execution_count": 114,
      "outputs": [
        {
          "output_type": "execute_result",
          "data": {
            "text/plain": [
              "<PrefetchDataset element_spec=((TensorSpec(shape=(None, 13), dtype=tf.float32, name=None), TensorSpec(shape=(None, 18), dtype=tf.float32, name=None), TensorSpec(shape=(None,), dtype=tf.string, name=None), TensorSpec(shape=(None,), dtype=tf.string, name=None)), TensorSpec(shape=(None, 5), dtype=tf.float64, name=None))>"
            ]
          },
          "metadata": {},
          "execution_count": 114
        }
      ]
    },
    {
      "cell_type": "code",
      "source": [
        "# evaluate on full test dataset\n",
        "model_5.evaluate(test_token_char_pos_dataset)"
      ],
      "metadata": {
        "id": "sXfMG7D4lgcJ",
        "colab": {
          "base_uri": "https://localhost:8080/"
        },
        "outputId": "bb9e7479-e0b8-4ef7-8a79-b86d3095a586"
      },
      "execution_count": 115,
      "outputs": [
        {
          "output_type": "stream",
          "name": "stdout",
          "text": [
            "942/942 [==============================] - 52s 56ms/step - loss: 0.9432 - accuracy: 0.8309\n"
          ]
        },
        {
          "output_type": "execute_result",
          "data": {
            "text/plain": [
              "[0.9432023167610168, 0.8308942914009094]"
            ]
          },
          "metadata": {},
          "execution_count": 115
        }
      ]
    },
    {
      "cell_type": "code",
      "source": [
        "# prediction probablities of each class label\n",
        "model_5_test_pred_probs = model_5.predict(test_token_char_pos_dataset)\n",
        "model_5_test_pred_probs"
      ],
      "metadata": {
        "id": "dRJeE2HslnxO",
        "colab": {
          "base_uri": "https://localhost:8080/"
        },
        "outputId": "5bb56067-2e73-4a20-83fb-93bb14b9ff3e"
      },
      "execution_count": 116,
      "outputs": [
        {
          "output_type": "execute_result",
          "data": {
            "text/plain": [
              "array([[0.34930006, 0.08272982, 0.03238047, 0.4886801 , 0.04690964],\n",
              "       [0.37762308, 0.07394469, 0.12097776, 0.39533353, 0.03212099],\n",
              "       [0.06411876, 0.02050141, 0.7976895 , 0.0866501 , 0.0310402 ],\n",
              "       ...,\n",
              "       [0.07132749, 0.11939862, 0.06156643, 0.04880184, 0.69890565],\n",
              "       [0.06246624, 0.12279023, 0.05874826, 0.0424692 , 0.713526  ],\n",
              "       [0.06233711, 0.68556666, 0.10960615, 0.03381302, 0.10867707]],\n",
              "      dtype=float32)"
            ]
          },
          "metadata": {},
          "execution_count": 116
        }
      ]
    },
    {
      "cell_type": "code",
      "source": [
        "# convert to prediction of each class label\n",
        "model_5_test_preds = tf.argmax(model_5_test_pred_probs, axis=1)\n",
        "model_5_test_preds"
      ],
      "metadata": {
        "id": "HeGXA4qSlsq8",
        "colab": {
          "base_uri": "https://localhost:8080/"
        },
        "outputId": "ecfa75fe-1b26-42e9-8fb0-3815ba717f47"
      },
      "execution_count": 117,
      "outputs": [
        {
          "output_type": "execute_result",
          "data": {
            "text/plain": [
              "<tf.Tensor: shape=(30135,), dtype=int64, numpy=array([3, 3, 2, ..., 4, 4, 1])>"
            ]
          },
          "metadata": {},
          "execution_count": 117
        }
      ]
    },
    {
      "cell_type": "code",
      "source": [
        "# model_5 test results\n",
        "model_5_test_result = score(test_label_encode, model_5_test_preds)\n",
        "model_5_test_result"
      ],
      "metadata": {
        "id": "eyzSs30elxWo",
        "colab": {
          "base_uri": "https://localhost:8080/"
        },
        "outputId": "b36f2dba-ba06-4176-f6bb-76bb8a94c24e"
      },
      "execution_count": 118,
      "outputs": [
        {
          "output_type": "execute_result",
          "data": {
            "text/plain": [
              "{'accuracy': 0.8308943089430895,\n",
              " 'f1': 0.83000977297344,\n",
              " 'precision': 0.8300513743977844,\n",
              " 'recall': 0.8308943089430895}"
            ]
          },
          "metadata": {},
          "execution_count": 118
        }
      ]
    }
  ]
}